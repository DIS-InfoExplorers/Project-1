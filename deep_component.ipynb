{
 "cells": [
  {
   "cell_type": "code",
   "execution_count": null,
   "metadata": {},
   "outputs": [],
   "source": [
    "from sentence_transformers import SentenceTransformer\n",
    "import numpy as np\n",
    "\n",
    "deep_embedder = SentenceTransformer('all-MiniLM-L6-v2')\n",
    "embedded_corpus = np.load('output/vectorized_corpus.npy')\n",
    "\n",
    "vectorized_queris = deep_embedder.encode(queries.text.tolist())\n",
    "k =10\n",
    "\n",
    "top_10 = np.zeros((vectorized.shape[0], k))\n",
    "for idx, vector_query in enumerate(vectorized_queris):\n",
    "    sentence_feature = embedded_corpus\n",
    "    similarity = sentence_feature @ vector_query\n",
    "    top_10[idx] = np.argpartition(similarity,-k)[-k:] \n"
   ]
  }
 ],
 "metadata": {
  "language_info": {
   "name": "python"
  }
 },
 "nbformat": 4,
 "nbformat_minor": 2
}
