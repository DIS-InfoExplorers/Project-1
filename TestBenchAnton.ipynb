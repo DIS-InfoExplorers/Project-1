{
 "cells": [
  {
   "cell_type": "code",
   "execution_count": 1,
   "outputs": [],
   "source": [
    "import pandas as pd"
   ],
   "metadata": {
    "collapsed": false,
    "ExecuteTime": {
     "end_time": "2023-10-08T14:49:37.167505Z",
     "start_time": "2023-10-08T14:49:36.758352100Z"
    }
   },
   "id": "6bdfc92e6979b25f"
  },
  {
   "cell_type": "markdown",
   "source": [
    "# Data loading"
   ],
   "metadata": {
    "collapsed": false
   },
   "id": "9314c815a0d0e17a"
  },
  {
   "cell_type": "code",
   "execution_count": 2,
   "outputs": [],
   "source": [
    "DATA_ROOT = 'data/'\n",
    "OUTPUT_ROOT = 'output/'"
   ],
   "metadata": {
    "collapsed": false,
    "ExecuteTime": {
     "end_time": "2023-10-08T14:49:37.167505Z",
     "start_time": "2023-10-08T14:49:37.165996200Z"
    }
   },
   "id": "b0bbfadf7d8ecd1f"
  },
  {
   "cell_type": "code",
   "execution_count": 3,
   "outputs": [
    {
     "data": {
      "text/plain": "         corpus-id                                               text\n1000000          0  The presence of communication amid scientific ...\n966376           8  In June 1942, the United States Army Corps of ...\n468831          12  Tutorial: Introduction to Restorative Justice....\n1000001         16  The approach is based on a theory of justice t...\n306952          23  Phloem is a conductive (or vascular) tissue fo...",
      "text/html": "<div>\n<style scoped>\n    .dataframe tbody tr th:only-of-type {\n        vertical-align: middle;\n    }\n\n    .dataframe tbody tr th {\n        vertical-align: top;\n    }\n\n    .dataframe thead th {\n        text-align: right;\n    }\n</style>\n<table border=\"1\" class=\"dataframe\">\n  <thead>\n    <tr style=\"text-align: right;\">\n      <th></th>\n      <th>corpus-id</th>\n      <th>text</th>\n    </tr>\n  </thead>\n  <tbody>\n    <tr>\n      <th>1000000</th>\n      <td>0</td>\n      <td>The presence of communication amid scientific ...</td>\n    </tr>\n    <tr>\n      <th>966376</th>\n      <td>8</td>\n      <td>In June 1942, the United States Army Corps of ...</td>\n    </tr>\n    <tr>\n      <th>468831</th>\n      <td>12</td>\n      <td>Tutorial: Introduction to Restorative Justice....</td>\n    </tr>\n    <tr>\n      <th>1000001</th>\n      <td>16</td>\n      <td>The approach is based on a theory of justice t...</td>\n    </tr>\n    <tr>\n      <th>306952</th>\n      <td>23</td>\n      <td>Phloem is a conductive (or vascular) tissue fo...</td>\n    </tr>\n  </tbody>\n</table>\n</div>"
     },
     "execution_count": 3,
     "metadata": {},
     "output_type": "execute_result"
    }
   ],
   "source": [
    "corpus = pd.read_json(DATA_ROOT + 'corpus.jsonl', lines=True).sort_values(by=[\"_id\"]).rename(columns={\"_id\": \"corpus-id\"})\n",
    "corpus.head()"
   ],
   "metadata": {
    "collapsed": false,
    "ExecuteTime": {
     "end_time": "2023-10-08T14:49:41.255955800Z",
     "start_time": "2023-10-08T14:49:37.168506700Z"
    }
   },
   "id": "83d4c5e9ede91475"
  },
  {
   "cell_type": "code",
   "execution_count": 4,
   "outputs": [
    {
     "data": {
      "text/plain": "        query-id                                               text\n506217         2                           Androgen receptor define\n65864          3      Another name for the primary visual cortex is\n372466         4  Defining alcoholism as a disease is associated...\n326447         5                ECT is a treatment that is used for\n117580         6      Ebolavirus is an enveloped virus, which means",
      "text/html": "<div>\n<style scoped>\n    .dataframe tbody tr th:only-of-type {\n        vertical-align: middle;\n    }\n\n    .dataframe tbody tr th {\n        vertical-align: top;\n    }\n\n    .dataframe thead th {\n        text-align: right;\n    }\n</style>\n<table border=\"1\" class=\"dataframe\">\n  <thead>\n    <tr style=\"text-align: right;\">\n      <th></th>\n      <th>query-id</th>\n      <th>text</th>\n    </tr>\n  </thead>\n  <tbody>\n    <tr>\n      <th>506217</th>\n      <td>2</td>\n      <td>Androgen receptor define</td>\n    </tr>\n    <tr>\n      <th>65864</th>\n      <td>3</td>\n      <td>Another name for the primary visual cortex is</td>\n    </tr>\n    <tr>\n      <th>372466</th>\n      <td>4</td>\n      <td>Defining alcoholism as a disease is associated...</td>\n    </tr>\n    <tr>\n      <th>326447</th>\n      <td>5</td>\n      <td>ECT is a treatment that is used for</td>\n    </tr>\n    <tr>\n      <th>117580</th>\n      <td>6</td>\n      <td>Ebolavirus is an enveloped virus, which means</td>\n    </tr>\n  </tbody>\n</table>\n</div>"
     },
     "execution_count": 4,
     "metadata": {},
     "output_type": "execute_result"
    }
   ],
   "source": [
    "queries = pd.read_json(path_or_buf=DATA_ROOT + 'queries.jsonl', lines=True).sort_values(by=[\"_id\"])\n",
    "queries['text'] = queries['text'].str.strip()#.apply(tokenize)\n",
    "queries = queries.drop(columns=[\"metadata\"]).rename(columns={\"_id\": \"query-id\"})\n",
    "queries.head()"
   ],
   "metadata": {
    "collapsed": false,
    "ExecuteTime": {
     "end_time": "2023-10-08T14:49:42.869462100Z",
     "start_time": "2023-10-08T14:49:41.251448200Z"
    }
   },
   "id": "55d0330e3472472d"
  },
  {
   "cell_type": "code",
   "execution_count": 5,
   "outputs": [
    {
     "data": {
      "text/plain": "        query-id  corpus-id  score\n70257          3    1142680      1\n395137         4    5613529      1\n346352         5    4956428      1\n125307         6    1931409      1\n66896          8    1094214      1\n...          ...        ...    ...\n169115   1185863    2545716      1\n88577    1185864    1408016      1\n8141     1185865     229186      1\n1        1185868         16      1\n0        1185869          0      1\n\n[532751 rows x 3 columns]",
      "text/html": "<div>\n<style scoped>\n    .dataframe tbody tr th:only-of-type {\n        vertical-align: middle;\n    }\n\n    .dataframe tbody tr th {\n        vertical-align: top;\n    }\n\n    .dataframe thead th {\n        text-align: right;\n    }\n</style>\n<table border=\"1\" class=\"dataframe\">\n  <thead>\n    <tr style=\"text-align: right;\">\n      <th></th>\n      <th>query-id</th>\n      <th>corpus-id</th>\n      <th>score</th>\n    </tr>\n  </thead>\n  <tbody>\n    <tr>\n      <th>70257</th>\n      <td>3</td>\n      <td>1142680</td>\n      <td>1</td>\n    </tr>\n    <tr>\n      <th>395137</th>\n      <td>4</td>\n      <td>5613529</td>\n      <td>1</td>\n    </tr>\n    <tr>\n      <th>346352</th>\n      <td>5</td>\n      <td>4956428</td>\n      <td>1</td>\n    </tr>\n    <tr>\n      <th>125307</th>\n      <td>6</td>\n      <td>1931409</td>\n      <td>1</td>\n    </tr>\n    <tr>\n      <th>66896</th>\n      <td>8</td>\n      <td>1094214</td>\n      <td>1</td>\n    </tr>\n    <tr>\n      <th>...</th>\n      <td>...</td>\n      <td>...</td>\n      <td>...</td>\n    </tr>\n    <tr>\n      <th>169115</th>\n      <td>1185863</td>\n      <td>2545716</td>\n      <td>1</td>\n    </tr>\n    <tr>\n      <th>88577</th>\n      <td>1185864</td>\n      <td>1408016</td>\n      <td>1</td>\n    </tr>\n    <tr>\n      <th>8141</th>\n      <td>1185865</td>\n      <td>229186</td>\n      <td>1</td>\n    </tr>\n    <tr>\n      <th>1</th>\n      <td>1185868</td>\n      <td>16</td>\n      <td>1</td>\n    </tr>\n    <tr>\n      <th>0</th>\n      <td>1185869</td>\n      <td>0</td>\n      <td>1</td>\n    </tr>\n  </tbody>\n</table>\n<p>532751 rows × 3 columns</p>\n</div>"
     },
     "execution_count": 5,
     "metadata": {},
     "output_type": "execute_result"
    }
   ],
   "source": [
    "query_corpus_train_map = pd.read_csv(DATA_ROOT + \"task1_train.tsv\", sep=\"\\t\")\n",
    "query_corpus_train_map.sort_values(by=\"query-id\")"
   ],
   "metadata": {
    "collapsed": false,
    "ExecuteTime": {
     "end_time": "2023-10-08T14:49:43.034158100Z",
     "start_time": "2023-10-08T14:49:42.860933400Z"
    }
   },
   "id": "8b1f6b3cd161e484"
  },
  {
   "cell_type": "code",
   "execution_count": 6,
   "outputs": [
    {
     "data": {
      "text/plain": "      query-id                                               text\n0            3      Another name for the primary visual cortex is\n1            4  Defining alcoholism as a disease is associated...\n2            5                ECT is a treatment that is used for\n3            6      Ebolavirus is an enveloped virus, which means\n4            8  In humans, the normal set point for body tempe...\n...        ...                                                ...\n7432     18204                                      anger is fear\n7433     18205                        anger management definition\n7434     18208                                 angie baby meaning\n7435     18209                                     angie lindvall\n7436     18211          angies list customer service phone number\n\n[7437 rows x 2 columns]",
      "text/html": "<div>\n<style scoped>\n    .dataframe tbody tr th:only-of-type {\n        vertical-align: middle;\n    }\n\n    .dataframe tbody tr th {\n        vertical-align: top;\n    }\n\n    .dataframe thead th {\n        text-align: right;\n    }\n</style>\n<table border=\"1\" class=\"dataframe\">\n  <thead>\n    <tr style=\"text-align: right;\">\n      <th></th>\n      <th>query-id</th>\n      <th>text</th>\n    </tr>\n  </thead>\n  <tbody>\n    <tr>\n      <th>0</th>\n      <td>3</td>\n      <td>Another name for the primary visual cortex is</td>\n    </tr>\n    <tr>\n      <th>1</th>\n      <td>4</td>\n      <td>Defining alcoholism as a disease is associated...</td>\n    </tr>\n    <tr>\n      <th>2</th>\n      <td>5</td>\n      <td>ECT is a treatment that is used for</td>\n    </tr>\n    <tr>\n      <th>3</th>\n      <td>6</td>\n      <td>Ebolavirus is an enveloped virus, which means</td>\n    </tr>\n    <tr>\n      <th>4</th>\n      <td>8</td>\n      <td>In humans, the normal set point for body tempe...</td>\n    </tr>\n    <tr>\n      <th>...</th>\n      <td>...</td>\n      <td>...</td>\n    </tr>\n    <tr>\n      <th>7432</th>\n      <td>18204</td>\n      <td>anger is fear</td>\n    </tr>\n    <tr>\n      <th>7433</th>\n      <td>18205</td>\n      <td>anger management definition</td>\n    </tr>\n    <tr>\n      <th>7434</th>\n      <td>18208</td>\n      <td>angie baby meaning</td>\n    </tr>\n    <tr>\n      <th>7435</th>\n      <td>18209</td>\n      <td>angie lindvall</td>\n    </tr>\n    <tr>\n      <th>7436</th>\n      <td>18211</td>\n      <td>angies list customer service phone number</td>\n    </tr>\n  </tbody>\n</table>\n<p>7437 rows × 2 columns</p>\n</div>"
     },
     "execution_count": 6,
     "metadata": {},
     "output_type": "execute_result"
    }
   ],
   "source": [
    "queries_train = pd.merge(queries, query_corpus_train_map, left_on='query-id', right_on='query-id', how='inner').drop(columns=[ \"score\",\"corpus-id\"])\n",
    "queries_train_subset = queries_train.iloc[:7437, :]\n",
    "queries_train_subset"
   ],
   "metadata": {
    "collapsed": false,
    "ExecuteTime": {
     "end_time": "2023-10-08T14:49:43.219339700Z",
     "start_time": "2023-10-08T14:49:43.027627600Z"
    }
   },
   "id": "13e24a0215f7b765"
  },
  {
   "cell_type": "code",
   "execution_count": 7,
   "outputs": [
    {
     "data": {
      "text/plain": "      query-id                                               text\n0            2                           Androgen receptor define\n1         1215  3 levels of government in canada and their res...\n2         1288                                          3/5 of 60\n3         1576                                    60x40 slab cost\n4         2235         Bethel University was founded in what year\n...        ...                                                ...\n7432   1102335                             why do people buy cars\n7433   1102351  why do jefferson and stanton include these sim...\n7434   1102390                     why do children get aggressive\n7435   1102393                  why do celebrate st patrick's day\n7436   1102400                             why do bears hibernate\n\n[7437 rows x 2 columns]",
      "text/html": "<div>\n<style scoped>\n    .dataframe tbody tr th:only-of-type {\n        vertical-align: middle;\n    }\n\n    .dataframe tbody tr th {\n        vertical-align: top;\n    }\n\n    .dataframe thead th {\n        text-align: right;\n    }\n</style>\n<table border=\"1\" class=\"dataframe\">\n  <thead>\n    <tr style=\"text-align: right;\">\n      <th></th>\n      <th>query-id</th>\n      <th>text</th>\n    </tr>\n  </thead>\n  <tbody>\n    <tr>\n      <th>0</th>\n      <td>2</td>\n      <td>Androgen receptor define</td>\n    </tr>\n    <tr>\n      <th>1</th>\n      <td>1215</td>\n      <td>3 levels of government in canada and their res...</td>\n    </tr>\n    <tr>\n      <th>2</th>\n      <td>1288</td>\n      <td>3/5 of 60</td>\n    </tr>\n    <tr>\n      <th>3</th>\n      <td>1576</td>\n      <td>60x40 slab cost</td>\n    </tr>\n    <tr>\n      <th>4</th>\n      <td>2235</td>\n      <td>Bethel University was founded in what year</td>\n    </tr>\n    <tr>\n      <th>...</th>\n      <td>...</td>\n      <td>...</td>\n    </tr>\n    <tr>\n      <th>7432</th>\n      <td>1102335</td>\n      <td>why do people buy cars</td>\n    </tr>\n    <tr>\n      <th>7433</th>\n      <td>1102351</td>\n      <td>why do jefferson and stanton include these sim...</td>\n    </tr>\n    <tr>\n      <th>7434</th>\n      <td>1102390</td>\n      <td>why do children get aggressive</td>\n    </tr>\n    <tr>\n      <th>7435</th>\n      <td>1102393</td>\n      <td>why do celebrate st patrick's day</td>\n    </tr>\n    <tr>\n      <th>7436</th>\n      <td>1102400</td>\n      <td>why do bears hibernate</td>\n    </tr>\n  </tbody>\n</table>\n<p>7437 rows × 2 columns</p>\n</div>"
     },
     "execution_count": 7,
     "metadata": {},
     "output_type": "execute_result"
    }
   ],
   "source": [
    "df_test = pd.read_csv(DATA_ROOT + \"task1_test.tsv\", sep=\"\\t\")\n",
    "queries_test = pd.merge(queries, df_test, left_on='query-id', right_on='query-id', how='inner').drop(columns=[\"id\"])\n",
    "queries_test"
   ],
   "metadata": {
    "collapsed": false,
    "ExecuteTime": {
     "end_time": "2023-10-08T14:49:43.291600Z",
     "start_time": "2023-10-08T14:49:43.214275200Z"
    }
   },
   "id": "6b7f26e8066d25c5"
  },
  {
   "cell_type": "markdown",
   "source": [
    "# Tests"
   ],
   "metadata": {
    "collapsed": false
   },
   "id": "17c23be8c28bb948"
  },
  {
   "cell_type": "markdown",
   "source": [
    "### TfIdf on the corpus"
   ],
   "metadata": {
    "collapsed": false
   },
   "id": "76aea861570a08a9"
  },
  {
   "cell_type": "code",
   "execution_count": 8,
   "outputs": [
    {
     "name": "stderr",
     "output_type": "stream",
     "text": [
      "[nltk_data] Downloading package stopwords to\n",
      "[nltk_data]     C:\\Users\\balanton\\AppData\\Roaming\\nltk_data...\n",
      "[nltk_data]   Package stopwords is already up-to-date!\n",
      "[nltk_data] Downloading package punkt to\n",
      "[nltk_data]     C:\\Users\\balanton\\AppData\\Roaming\\nltk_data...\n",
      "[nltk_data]   Package punkt is already up-to-date!\n"
     ]
    }
   ],
   "source": [
    "from tfidf import *"
   ],
   "metadata": {
    "collapsed": false,
    "ExecuteTime": {
     "end_time": "2023-10-08T14:49:44.352479300Z",
     "start_time": "2023-10-08T14:49:43.266870200Z"
    }
   },
   "id": "481eea338607ef1f"
  },
  {
   "cell_type": "code",
   "execution_count": 9,
   "outputs": [],
   "source": [
    "corpus_subset = corpus.iloc[:10]\n",
    "\n",
    "original_documents, documents, document_vectors, vocabulary, idf = tfidf(corpus_subset.text)"
   ],
   "metadata": {
    "collapsed": false,
    "ExecuteTime": {
     "end_time": "2023-10-08T14:49:44.425091800Z",
     "start_time": "2023-10-08T14:49:44.353479400Z"
    }
   },
   "id": "234a8b0cf0d6d88f"
  },
  {
   "cell_type": "markdown",
   "source": [
    "### Saving results in the .csv file"
   ],
   "metadata": {
    "collapsed": false
   },
   "id": "1a9dd15a954b0c18"
  },
  {
   "cell_type": "code",
   "execution_count": 10,
   "outputs": [
    {
     "data": {
      "text/plain": "   corpus-id         1  1882  1890      1942         2         3   90    a  \\\n0          0  0.000000   0.0   0.0  0.000000  0.000000  0.000000  0.0  0.0   \n1          8  0.000000   0.0   0.0  2.302585  1.609438  0.000000  0.0  0.0   \n2         12  0.767528   0.0   0.0  0.000000  0.536479  0.767528  0.0  0.0   \n3         16  0.000000   0.0   0.0  0.000000  0.000000  0.000000  0.0  0.0   \n4         23  0.000000   0.0   0.0  0.000000  0.000000  0.000000  0.0  0.0   \n\n   abnorm  ...  usual  varieti  variou  vascular  vessel    victim  water  \\\n0     0.0  ...    0.0      0.0     0.0  0.000000     0.0  0.000000    0.0   \n1     0.0  ...    0.0      0.0     0.0  0.000000     0.0  0.000000    0.0   \n2     0.0  ...    0.0      0.0     0.0  0.000000     0.0  0.000000    0.0   \n3     0.0  ...    0.0      0.0     0.0  0.000000     0.0  2.302585    0.0   \n4     0.0  ...    0.0      0.0     0.0  1.151293     0.0  0.000000    0.0   \n\n    wrongdo  xylem  yellow  \n0  0.000000    0.0     0.0  \n1  0.000000    0.0     0.0  \n2  0.000000    0.0     0.0  \n3  1.151293    0.0     0.0  \n4  0.000000    0.0     0.0  \n\n[5 rows x 242 columns]",
      "text/html": "<div>\n<style scoped>\n    .dataframe tbody tr th:only-of-type {\n        vertical-align: middle;\n    }\n\n    .dataframe tbody tr th {\n        vertical-align: top;\n    }\n\n    .dataframe thead th {\n        text-align: right;\n    }\n</style>\n<table border=\"1\" class=\"dataframe\">\n  <thead>\n    <tr style=\"text-align: right;\">\n      <th></th>\n      <th>corpus-id</th>\n      <th>1</th>\n      <th>1882</th>\n      <th>1890</th>\n      <th>1942</th>\n      <th>2</th>\n      <th>3</th>\n      <th>90</th>\n      <th>a</th>\n      <th>abnorm</th>\n      <th>...</th>\n      <th>usual</th>\n      <th>varieti</th>\n      <th>variou</th>\n      <th>vascular</th>\n      <th>vessel</th>\n      <th>victim</th>\n      <th>water</th>\n      <th>wrongdo</th>\n      <th>xylem</th>\n      <th>yellow</th>\n    </tr>\n  </thead>\n  <tbody>\n    <tr>\n      <th>0</th>\n      <td>0</td>\n      <td>0.000000</td>\n      <td>0.0</td>\n      <td>0.0</td>\n      <td>0.000000</td>\n      <td>0.000000</td>\n      <td>0.000000</td>\n      <td>0.0</td>\n      <td>0.0</td>\n      <td>0.0</td>\n      <td>...</td>\n      <td>0.0</td>\n      <td>0.0</td>\n      <td>0.0</td>\n      <td>0.000000</td>\n      <td>0.0</td>\n      <td>0.000000</td>\n      <td>0.0</td>\n      <td>0.000000</td>\n      <td>0.0</td>\n      <td>0.0</td>\n    </tr>\n    <tr>\n      <th>1</th>\n      <td>8</td>\n      <td>0.000000</td>\n      <td>0.0</td>\n      <td>0.0</td>\n      <td>2.302585</td>\n      <td>1.609438</td>\n      <td>0.000000</td>\n      <td>0.0</td>\n      <td>0.0</td>\n      <td>0.0</td>\n      <td>...</td>\n      <td>0.0</td>\n      <td>0.0</td>\n      <td>0.0</td>\n      <td>0.000000</td>\n      <td>0.0</td>\n      <td>0.000000</td>\n      <td>0.0</td>\n      <td>0.000000</td>\n      <td>0.0</td>\n      <td>0.0</td>\n    </tr>\n    <tr>\n      <th>2</th>\n      <td>12</td>\n      <td>0.767528</td>\n      <td>0.0</td>\n      <td>0.0</td>\n      <td>0.000000</td>\n      <td>0.536479</td>\n      <td>0.767528</td>\n      <td>0.0</td>\n      <td>0.0</td>\n      <td>0.0</td>\n      <td>...</td>\n      <td>0.0</td>\n      <td>0.0</td>\n      <td>0.0</td>\n      <td>0.000000</td>\n      <td>0.0</td>\n      <td>0.000000</td>\n      <td>0.0</td>\n      <td>0.000000</td>\n      <td>0.0</td>\n      <td>0.0</td>\n    </tr>\n    <tr>\n      <th>3</th>\n      <td>16</td>\n      <td>0.000000</td>\n      <td>0.0</td>\n      <td>0.0</td>\n      <td>0.000000</td>\n      <td>0.000000</td>\n      <td>0.000000</td>\n      <td>0.0</td>\n      <td>0.0</td>\n      <td>0.0</td>\n      <td>...</td>\n      <td>0.0</td>\n      <td>0.0</td>\n      <td>0.0</td>\n      <td>0.000000</td>\n      <td>0.0</td>\n      <td>2.302585</td>\n      <td>0.0</td>\n      <td>1.151293</td>\n      <td>0.0</td>\n      <td>0.0</td>\n    </tr>\n    <tr>\n      <th>4</th>\n      <td>23</td>\n      <td>0.000000</td>\n      <td>0.0</td>\n      <td>0.0</td>\n      <td>0.000000</td>\n      <td>0.000000</td>\n      <td>0.000000</td>\n      <td>0.0</td>\n      <td>0.0</td>\n      <td>0.0</td>\n      <td>...</td>\n      <td>0.0</td>\n      <td>0.0</td>\n      <td>0.0</td>\n      <td>1.151293</td>\n      <td>0.0</td>\n      <td>0.000000</td>\n      <td>0.0</td>\n      <td>0.000000</td>\n      <td>0.0</td>\n      <td>0.0</td>\n    </tr>\n  </tbody>\n</table>\n<p>5 rows × 242 columns</p>\n</div>"
     },
     "execution_count": 10,
     "metadata": {},
     "output_type": "execute_result"
    }
   ],
   "source": [
    "df1 = corpus_subset.drop(columns=['text']).reset_index(drop=True)\n",
    "df2 = pd.DataFrame(document_vectors, columns=vocabulary)\n",
    "\n",
    "weights_df = df1.join(df2)\n",
    "weights_df.head()"
   ],
   "metadata": {
    "collapsed": false,
    "ExecuteTime": {
     "end_time": "2023-10-08T14:49:44.448385300Z",
     "start_time": "2023-10-08T14:49:44.426097400Z"
    }
   },
   "id": "d419b8e81dd126c1"
  },
  {
   "cell_type": "code",
   "execution_count": 11,
   "outputs": [],
   "source": [
    "weights_df.to_csv(OUTPUT_ROOT + \"corpus_weights.csv\", index=False)"
   ],
   "metadata": {
    "collapsed": false,
    "ExecuteTime": {
     "end_time": "2023-10-08T14:49:44.448385300Z",
     "start_time": "2023-10-08T14:49:44.443246100Z"
    }
   },
   "id": "a229b387e7c1c5b8"
  },
  {
   "cell_type": "code",
   "execution_count": 12,
   "outputs": [],
   "source": [
    "corpus_weights = pd.read_csv(OUTPUT_ROOT + \"corpus_weights.csv\")"
   ],
   "metadata": {
    "collapsed": false,
    "ExecuteTime": {
     "end_time": "2023-10-08T14:49:44.465248600Z",
     "start_time": "2023-10-08T14:49:44.449386800Z"
    }
   },
   "id": "1546588fe3b6a938"
  },
  {
   "cell_type": "code",
   "execution_count": 13,
   "outputs": [
    {
     "data": {
      "text/plain": "   corpus-id         1  1882  1890      1942         2         3   90    a  \\\n0          0  0.000000   0.0   0.0  0.000000  0.000000  0.000000  0.0  0.0   \n1          8  0.000000   0.0   0.0  2.302585  1.609438  0.000000  0.0  0.0   \n2         12  0.767528   0.0   0.0  0.000000  0.536479  0.767528  0.0  0.0   \n3         16  0.000000   0.0   0.0  0.000000  0.000000  0.000000  0.0  0.0   \n4         23  0.000000   0.0   0.0  0.000000  0.000000  0.000000  0.0  0.0   \n\n   abnorm  ...  usual  varieti  variou  vascular  vessel    victim  water  \\\n0     0.0  ...    0.0      0.0     0.0  0.000000     0.0  0.000000    0.0   \n1     0.0  ...    0.0      0.0     0.0  0.000000     0.0  0.000000    0.0   \n2     0.0  ...    0.0      0.0     0.0  0.000000     0.0  0.000000    0.0   \n3     0.0  ...    0.0      0.0     0.0  0.000000     0.0  2.302585    0.0   \n4     0.0  ...    0.0      0.0     0.0  1.151293     0.0  0.000000    0.0   \n\n    wrongdo  xylem  yellow  \n0  0.000000    0.0     0.0  \n1  0.000000    0.0     0.0  \n2  0.000000    0.0     0.0  \n3  1.151293    0.0     0.0  \n4  0.000000    0.0     0.0  \n\n[5 rows x 242 columns]",
      "text/html": "<div>\n<style scoped>\n    .dataframe tbody tr th:only-of-type {\n        vertical-align: middle;\n    }\n\n    .dataframe tbody tr th {\n        vertical-align: top;\n    }\n\n    .dataframe thead th {\n        text-align: right;\n    }\n</style>\n<table border=\"1\" class=\"dataframe\">\n  <thead>\n    <tr style=\"text-align: right;\">\n      <th></th>\n      <th>corpus-id</th>\n      <th>1</th>\n      <th>1882</th>\n      <th>1890</th>\n      <th>1942</th>\n      <th>2</th>\n      <th>3</th>\n      <th>90</th>\n      <th>a</th>\n      <th>abnorm</th>\n      <th>...</th>\n      <th>usual</th>\n      <th>varieti</th>\n      <th>variou</th>\n      <th>vascular</th>\n      <th>vessel</th>\n      <th>victim</th>\n      <th>water</th>\n      <th>wrongdo</th>\n      <th>xylem</th>\n      <th>yellow</th>\n    </tr>\n  </thead>\n  <tbody>\n    <tr>\n      <th>0</th>\n      <td>0</td>\n      <td>0.000000</td>\n      <td>0.0</td>\n      <td>0.0</td>\n      <td>0.000000</td>\n      <td>0.000000</td>\n      <td>0.000000</td>\n      <td>0.0</td>\n      <td>0.0</td>\n      <td>0.0</td>\n      <td>...</td>\n      <td>0.0</td>\n      <td>0.0</td>\n      <td>0.0</td>\n      <td>0.000000</td>\n      <td>0.0</td>\n      <td>0.000000</td>\n      <td>0.0</td>\n      <td>0.000000</td>\n      <td>0.0</td>\n      <td>0.0</td>\n    </tr>\n    <tr>\n      <th>1</th>\n      <td>8</td>\n      <td>0.000000</td>\n      <td>0.0</td>\n      <td>0.0</td>\n      <td>2.302585</td>\n      <td>1.609438</td>\n      <td>0.000000</td>\n      <td>0.0</td>\n      <td>0.0</td>\n      <td>0.0</td>\n      <td>...</td>\n      <td>0.0</td>\n      <td>0.0</td>\n      <td>0.0</td>\n      <td>0.000000</td>\n      <td>0.0</td>\n      <td>0.000000</td>\n      <td>0.0</td>\n      <td>0.000000</td>\n      <td>0.0</td>\n      <td>0.0</td>\n    </tr>\n    <tr>\n      <th>2</th>\n      <td>12</td>\n      <td>0.767528</td>\n      <td>0.0</td>\n      <td>0.0</td>\n      <td>0.000000</td>\n      <td>0.536479</td>\n      <td>0.767528</td>\n      <td>0.0</td>\n      <td>0.0</td>\n      <td>0.0</td>\n      <td>...</td>\n      <td>0.0</td>\n      <td>0.0</td>\n      <td>0.0</td>\n      <td>0.000000</td>\n      <td>0.0</td>\n      <td>0.000000</td>\n      <td>0.0</td>\n      <td>0.000000</td>\n      <td>0.0</td>\n      <td>0.0</td>\n    </tr>\n    <tr>\n      <th>3</th>\n      <td>16</td>\n      <td>0.000000</td>\n      <td>0.0</td>\n      <td>0.0</td>\n      <td>0.000000</td>\n      <td>0.000000</td>\n      <td>0.000000</td>\n      <td>0.0</td>\n      <td>0.0</td>\n      <td>0.0</td>\n      <td>...</td>\n      <td>0.0</td>\n      <td>0.0</td>\n      <td>0.0</td>\n      <td>0.000000</td>\n      <td>0.0</td>\n      <td>2.302585</td>\n      <td>0.0</td>\n      <td>1.151293</td>\n      <td>0.0</td>\n      <td>0.0</td>\n    </tr>\n    <tr>\n      <th>4</th>\n      <td>23</td>\n      <td>0.000000</td>\n      <td>0.0</td>\n      <td>0.0</td>\n      <td>0.000000</td>\n      <td>0.000000</td>\n      <td>0.000000</td>\n      <td>0.0</td>\n      <td>0.0</td>\n      <td>0.0</td>\n      <td>...</td>\n      <td>0.0</td>\n      <td>0.0</td>\n      <td>0.0</td>\n      <td>1.151293</td>\n      <td>0.0</td>\n      <td>0.000000</td>\n      <td>0.0</td>\n      <td>0.000000</td>\n      <td>0.0</td>\n      <td>0.0</td>\n    </tr>\n  </tbody>\n</table>\n<p>5 rows × 242 columns</p>\n</div>"
     },
     "execution_count": 13,
     "metadata": {},
     "output_type": "execute_result"
    }
   ],
   "source": [
    "corpus_weights.head()"
   ],
   "metadata": {
    "collapsed": false,
    "ExecuteTime": {
     "end_time": "2023-10-08T14:49:44.488100700Z",
     "start_time": "2023-10-08T14:49:44.460741400Z"
    }
   },
   "id": "983312e8bb73a74d"
  }
 ],
 "metadata": {
  "kernelspec": {
   "display_name": "Python 3",
   "language": "python",
   "name": "python3"
  },
  "language_info": {
   "codemirror_mode": {
    "name": "ipython",
    "version": 2
   },
   "file_extension": ".py",
   "mimetype": "text/x-python",
   "name": "python",
   "nbconvert_exporter": "python",
   "pygments_lexer": "ipython2",
   "version": "2.7.6"
  }
 },
 "nbformat": 4,
 "nbformat_minor": 5
}
