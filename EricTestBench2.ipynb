{
 "cells": [
  {
   "cell_type": "code",
   "execution_count": 111,
   "id": "15a33f2d-bf7b-43b5-b56a-0b61eebbf0ca",
   "metadata": {
    "ExecuteTime": {
     "end_time": "2023-10-18T19:09:04.023044100Z",
     "start_time": "2023-10-18T19:09:04.014994700Z"
    }
   },
   "outputs": [],
   "source": [
    "import numpy as np\n",
    "import pandas as pd\n",
    "import string\n",
    "from nltk.stem import PorterStemmer, WordNetLemmatizer\n",
    "import nltk\n",
    "from nltk.corpus import stopwords\n",
    "import re\n",
    "from collections import Counter\n",
    "from math import log\n",
    "from scipy.sparse import csr_matrix, lil_matrix\n",
    "from sklearn.metrics.pairwise import cosine_similarity\n",
    "from tqdm import tqdm\n",
    "tqdm.pandas()"
   ]
  },
  {
   "cell_type": "markdown",
   "id": "d5b294de-1cb4-4399-a7eb-e27912e381b1",
   "metadata": {},
   "source": [
    "# Data Preparation"
   ]
  },
  {
   "cell_type": "code",
   "execution_count": 81,
   "id": "299d5d6d-9c33-48fd-9817-b7e8e2141411",
   "metadata": {
    "ExecuteTime": {
     "end_time": "2023-10-18T18:44:09.886485400Z",
     "start_time": "2023-10-18T18:44:06.190086400Z"
    }
   },
   "outputs": [
    {
     "data": {
      "text/plain": "         corpus-id                                               text\n1000000          0  The presence of communication amid scientific ...\n966376           8  In June 1942, the United States Army Corps of ...\n468831          12  Tutorial: Introduction to Restorative Justice....\n1000001         16  The approach is based on a theory of justice t...\n306952          23  Phloem is a conductive (or vascular) tissue fo...\n...            ...                                                ...\n950989     8841780  Wolves don't hide. They don't even live in cav...\n395590     8841787  The UNHCR Country Representative in Kenya. Str...\n93101      8841790  2. Describe the misery at Kakuma. 3. Compariso...\n669122     8841800  Following the death of his employer and mentor...\n593471     8841801  Presently, Puerto Rico holds the most titles f...\n\n[1471406 rows x 2 columns]",
      "text/html": "<div>\n<style scoped>\n    .dataframe tbody tr th:only-of-type {\n        vertical-align: middle;\n    }\n\n    .dataframe tbody tr th {\n        vertical-align: top;\n    }\n\n    .dataframe thead th {\n        text-align: right;\n    }\n</style>\n<table border=\"1\" class=\"dataframe\">\n  <thead>\n    <tr style=\"text-align: right;\">\n      <th></th>\n      <th>corpus-id</th>\n      <th>text</th>\n    </tr>\n  </thead>\n  <tbody>\n    <tr>\n      <th>1000000</th>\n      <td>0</td>\n      <td>The presence of communication amid scientific ...</td>\n    </tr>\n    <tr>\n      <th>966376</th>\n      <td>8</td>\n      <td>In June 1942, the United States Army Corps of ...</td>\n    </tr>\n    <tr>\n      <th>468831</th>\n      <td>12</td>\n      <td>Tutorial: Introduction to Restorative Justice....</td>\n    </tr>\n    <tr>\n      <th>1000001</th>\n      <td>16</td>\n      <td>The approach is based on a theory of justice t...</td>\n    </tr>\n    <tr>\n      <th>306952</th>\n      <td>23</td>\n      <td>Phloem is a conductive (or vascular) tissue fo...</td>\n    </tr>\n    <tr>\n      <th>...</th>\n      <td>...</td>\n      <td>...</td>\n    </tr>\n    <tr>\n      <th>950989</th>\n      <td>8841780</td>\n      <td>Wolves don't hide. They don't even live in cav...</td>\n    </tr>\n    <tr>\n      <th>395590</th>\n      <td>8841787</td>\n      <td>The UNHCR Country Representative in Kenya. Str...</td>\n    </tr>\n    <tr>\n      <th>93101</th>\n      <td>8841790</td>\n      <td>2. Describe the misery at Kakuma. 3. Compariso...</td>\n    </tr>\n    <tr>\n      <th>669122</th>\n      <td>8841800</td>\n      <td>Following the death of his employer and mentor...</td>\n    </tr>\n    <tr>\n      <th>593471</th>\n      <td>8841801</td>\n      <td>Presently, Puerto Rico holds the most titles f...</td>\n    </tr>\n  </tbody>\n</table>\n<p>1471406 rows × 2 columns</p>\n</div>"
     },
     "execution_count": 81,
     "metadata": {},
     "output_type": "execute_result"
    }
   ],
   "source": [
    "corpus = pd.read_json('data/corpus.jsonl', lines=True).sort_values(by=[\"_id\"]).rename(columns={\"_id\": \"corpus-id\"})\n",
    "corpus"
   ]
  },
  {
   "cell_type": "code",
   "execution_count": 82,
   "id": "851459ae-b7f1-42d0-80cb-5e59e88652f7",
   "metadata": {
    "ExecuteTime": {
     "end_time": "2023-10-18T18:44:11.415705200Z",
     "start_time": "2023-10-18T18:44:09.886485400Z"
    }
   },
   "outputs": [
    {
     "data": {
      "text/plain": "        query-id                                               text\n506217         2                           Androgen receptor define\n65864          3      Another name for the primary visual cortex is\n372466         4  Defining alcoholism as a disease is associated...\n326447         5                ECT is a treatment that is used for\n117580         6      Ebolavirus is an enveloped virus, which means\n...          ...                                                ...\n158901   1185863                          why did rachel carson die\n83120    1185864                                definition of ramen\n7634     1185865                    amex india customer care number\n1        1185868  _________ justice is designed to repair the ha...\n0        1185869  )what was the immediate impact of the success ...\n\n[509962 rows x 2 columns]",
      "text/html": "<div>\n<style scoped>\n    .dataframe tbody tr th:only-of-type {\n        vertical-align: middle;\n    }\n\n    .dataframe tbody tr th {\n        vertical-align: top;\n    }\n\n    .dataframe thead th {\n        text-align: right;\n    }\n</style>\n<table border=\"1\" class=\"dataframe\">\n  <thead>\n    <tr style=\"text-align: right;\">\n      <th></th>\n      <th>query-id</th>\n      <th>text</th>\n    </tr>\n  </thead>\n  <tbody>\n    <tr>\n      <th>506217</th>\n      <td>2</td>\n      <td>Androgen receptor define</td>\n    </tr>\n    <tr>\n      <th>65864</th>\n      <td>3</td>\n      <td>Another name for the primary visual cortex is</td>\n    </tr>\n    <tr>\n      <th>372466</th>\n      <td>4</td>\n      <td>Defining alcoholism as a disease is associated...</td>\n    </tr>\n    <tr>\n      <th>326447</th>\n      <td>5</td>\n      <td>ECT is a treatment that is used for</td>\n    </tr>\n    <tr>\n      <th>117580</th>\n      <td>6</td>\n      <td>Ebolavirus is an enveloped virus, which means</td>\n    </tr>\n    <tr>\n      <th>...</th>\n      <td>...</td>\n      <td>...</td>\n    </tr>\n    <tr>\n      <th>158901</th>\n      <td>1185863</td>\n      <td>why did rachel carson die</td>\n    </tr>\n    <tr>\n      <th>83120</th>\n      <td>1185864</td>\n      <td>definition of ramen</td>\n    </tr>\n    <tr>\n      <th>7634</th>\n      <td>1185865</td>\n      <td>amex india customer care number</td>\n    </tr>\n    <tr>\n      <th>1</th>\n      <td>1185868</td>\n      <td>_________ justice is designed to repair the ha...</td>\n    </tr>\n    <tr>\n      <th>0</th>\n      <td>1185869</td>\n      <td>)what was the immediate impact of the success ...</td>\n    </tr>\n  </tbody>\n</table>\n<p>509962 rows × 2 columns</p>\n</div>"
     },
     "execution_count": 82,
     "metadata": {},
     "output_type": "execute_result"
    }
   ],
   "source": [
    "queries = pd.read_json(path_or_buf='data/queries.jsonl', lines=True).sort_values(by=[\"_id\"])\n",
    "queries['text'] = queries['text'].str.strip()#.apply(tokenize)\n",
    "queries = queries.drop(columns=[\"metadata\"]).rename(columns={\"_id\": \"query-id\"})\n",
    "queries"
   ]
  },
  {
   "cell_type": "code",
   "execution_count": 83,
   "id": "f4b0aef4-1037-4514-86d1-3c6014fbf028",
   "metadata": {
    "ExecuteTime": {
     "end_time": "2023-10-18T18:44:11.561074Z",
     "start_time": "2023-10-18T18:44:11.416834300Z"
    }
   },
   "outputs": [
    {
     "data": {
      "text/plain": "        query-id  corpus-id  score\n70257          3    1142680      1\n395137         4    5613529      1\n346352         5    4956428      1\n125307         6    1931409      1\n66896          8    1094214      1\n...          ...        ...    ...\n169115   1185863    2545716      1\n88577    1185864    1408016      1\n8141     1185865     229186      1\n1        1185868         16      1\n0        1185869          0      1\n\n[532751 rows x 3 columns]",
      "text/html": "<div>\n<style scoped>\n    .dataframe tbody tr th:only-of-type {\n        vertical-align: middle;\n    }\n\n    .dataframe tbody tr th {\n        vertical-align: top;\n    }\n\n    .dataframe thead th {\n        text-align: right;\n    }\n</style>\n<table border=\"1\" class=\"dataframe\">\n  <thead>\n    <tr style=\"text-align: right;\">\n      <th></th>\n      <th>query-id</th>\n      <th>corpus-id</th>\n      <th>score</th>\n    </tr>\n  </thead>\n  <tbody>\n    <tr>\n      <th>70257</th>\n      <td>3</td>\n      <td>1142680</td>\n      <td>1</td>\n    </tr>\n    <tr>\n      <th>395137</th>\n      <td>4</td>\n      <td>5613529</td>\n      <td>1</td>\n    </tr>\n    <tr>\n      <th>346352</th>\n      <td>5</td>\n      <td>4956428</td>\n      <td>1</td>\n    </tr>\n    <tr>\n      <th>125307</th>\n      <td>6</td>\n      <td>1931409</td>\n      <td>1</td>\n    </tr>\n    <tr>\n      <th>66896</th>\n      <td>8</td>\n      <td>1094214</td>\n      <td>1</td>\n    </tr>\n    <tr>\n      <th>...</th>\n      <td>...</td>\n      <td>...</td>\n      <td>...</td>\n    </tr>\n    <tr>\n      <th>169115</th>\n      <td>1185863</td>\n      <td>2545716</td>\n      <td>1</td>\n    </tr>\n    <tr>\n      <th>88577</th>\n      <td>1185864</td>\n      <td>1408016</td>\n      <td>1</td>\n    </tr>\n    <tr>\n      <th>8141</th>\n      <td>1185865</td>\n      <td>229186</td>\n      <td>1</td>\n    </tr>\n    <tr>\n      <th>1</th>\n      <td>1185868</td>\n      <td>16</td>\n      <td>1</td>\n    </tr>\n    <tr>\n      <th>0</th>\n      <td>1185869</td>\n      <td>0</td>\n      <td>1</td>\n    </tr>\n  </tbody>\n</table>\n<p>532751 rows × 3 columns</p>\n</div>"
     },
     "execution_count": 83,
     "metadata": {},
     "output_type": "execute_result"
    }
   ],
   "source": [
    "query_corpus_train_map = pd.read_csv(\"data/task1_train.tsv\", sep=\"\\t\")\n",
    "query_corpus_train_map.sort_values(by=\"query-id\")"
   ]
  },
  {
   "cell_type": "code",
   "execution_count": 84,
   "id": "d4a46d67-bc34-4757-b450-80d9ee85fa70",
   "metadata": {
    "ExecuteTime": {
     "end_time": "2023-10-18T18:44:11.687661100Z",
     "start_time": "2023-10-18T18:44:11.563093400Z"
    }
   },
   "outputs": [
    {
     "data": {
      "text/plain": "      query-id                                               text\n0            3      Another name for the primary visual cortex is\n1            4  Defining alcoholism as a disease is associated...\n2            5                ECT is a treatment that is used for\n3            6      Ebolavirus is an enveloped virus, which means\n4            8  In humans, the normal set point for body tempe...\n...        ...                                                ...\n7432     18204                                      anger is fear\n7433     18205                        anger management definition\n7434     18208                                 angie baby meaning\n7435     18209                                     angie lindvall\n7436     18211          angies list customer service phone number\n\n[7437 rows x 2 columns]",
      "text/html": "<div>\n<style scoped>\n    .dataframe tbody tr th:only-of-type {\n        vertical-align: middle;\n    }\n\n    .dataframe tbody tr th {\n        vertical-align: top;\n    }\n\n    .dataframe thead th {\n        text-align: right;\n    }\n</style>\n<table border=\"1\" class=\"dataframe\">\n  <thead>\n    <tr style=\"text-align: right;\">\n      <th></th>\n      <th>query-id</th>\n      <th>text</th>\n    </tr>\n  </thead>\n  <tbody>\n    <tr>\n      <th>0</th>\n      <td>3</td>\n      <td>Another name for the primary visual cortex is</td>\n    </tr>\n    <tr>\n      <th>1</th>\n      <td>4</td>\n      <td>Defining alcoholism as a disease is associated...</td>\n    </tr>\n    <tr>\n      <th>2</th>\n      <td>5</td>\n      <td>ECT is a treatment that is used for</td>\n    </tr>\n    <tr>\n      <th>3</th>\n      <td>6</td>\n      <td>Ebolavirus is an enveloped virus, which means</td>\n    </tr>\n    <tr>\n      <th>4</th>\n      <td>8</td>\n      <td>In humans, the normal set point for body tempe...</td>\n    </tr>\n    <tr>\n      <th>...</th>\n      <td>...</td>\n      <td>...</td>\n    </tr>\n    <tr>\n      <th>7432</th>\n      <td>18204</td>\n      <td>anger is fear</td>\n    </tr>\n    <tr>\n      <th>7433</th>\n      <td>18205</td>\n      <td>anger management definition</td>\n    </tr>\n    <tr>\n      <th>7434</th>\n      <td>18208</td>\n      <td>angie baby meaning</td>\n    </tr>\n    <tr>\n      <th>7435</th>\n      <td>18209</td>\n      <td>angie lindvall</td>\n    </tr>\n    <tr>\n      <th>7436</th>\n      <td>18211</td>\n      <td>angies list customer service phone number</td>\n    </tr>\n  </tbody>\n</table>\n<p>7437 rows × 2 columns</p>\n</div>"
     },
     "execution_count": 84,
     "metadata": {},
     "output_type": "execute_result"
    }
   ],
   "source": [
    "queries_train = pd.merge(queries, query_corpus_train_map, left_on='query-id', right_on='query-id', how='inner').drop(columns=[ \"score\",\"corpus-id\"])\n",
    "queries_train_subset = queries_train.iloc[:7437, :]\n",
    "queries_train_subset"
   ]
  },
  {
   "cell_type": "code",
   "execution_count": 85,
   "id": "cd8df4c3-4107-46ff-ac76-62e87c2a6cea",
   "metadata": {
    "ExecuteTime": {
     "end_time": "2023-10-18T18:44:11.765391200Z",
     "start_time": "2023-10-18T18:44:11.689671400Z"
    }
   },
   "outputs": [
    {
     "data": {
      "text/plain": "      query-id                                               text\n0            2                           Androgen receptor define\n1         1215  3 levels of government in canada and their res...\n2         1288                                          3/5 of 60\n3         1576                                    60x40 slab cost\n4         2235         Bethel University was founded in what year\n...        ...                                                ...\n7432   1102335                             why do people buy cars\n7433   1102351  why do jefferson and stanton include these sim...\n7434   1102390                     why do children get aggressive\n7435   1102393                  why do celebrate st patrick's day\n7436   1102400                             why do bears hibernate\n\n[7437 rows x 2 columns]",
      "text/html": "<div>\n<style scoped>\n    .dataframe tbody tr th:only-of-type {\n        vertical-align: middle;\n    }\n\n    .dataframe tbody tr th {\n        vertical-align: top;\n    }\n\n    .dataframe thead th {\n        text-align: right;\n    }\n</style>\n<table border=\"1\" class=\"dataframe\">\n  <thead>\n    <tr style=\"text-align: right;\">\n      <th></th>\n      <th>query-id</th>\n      <th>text</th>\n    </tr>\n  </thead>\n  <tbody>\n    <tr>\n      <th>0</th>\n      <td>2</td>\n      <td>Androgen receptor define</td>\n    </tr>\n    <tr>\n      <th>1</th>\n      <td>1215</td>\n      <td>3 levels of government in canada and their res...</td>\n    </tr>\n    <tr>\n      <th>2</th>\n      <td>1288</td>\n      <td>3/5 of 60</td>\n    </tr>\n    <tr>\n      <th>3</th>\n      <td>1576</td>\n      <td>60x40 slab cost</td>\n    </tr>\n    <tr>\n      <th>4</th>\n      <td>2235</td>\n      <td>Bethel University was founded in what year</td>\n    </tr>\n    <tr>\n      <th>...</th>\n      <td>...</td>\n      <td>...</td>\n    </tr>\n    <tr>\n      <th>7432</th>\n      <td>1102335</td>\n      <td>why do people buy cars</td>\n    </tr>\n    <tr>\n      <th>7433</th>\n      <td>1102351</td>\n      <td>why do jefferson and stanton include these sim...</td>\n    </tr>\n    <tr>\n      <th>7434</th>\n      <td>1102390</td>\n      <td>why do children get aggressive</td>\n    </tr>\n    <tr>\n      <th>7435</th>\n      <td>1102393</td>\n      <td>why do celebrate st patrick's day</td>\n    </tr>\n    <tr>\n      <th>7436</th>\n      <td>1102400</td>\n      <td>why do bears hibernate</td>\n    </tr>\n  </tbody>\n</table>\n<p>7437 rows × 2 columns</p>\n</div>"
     },
     "execution_count": 85,
     "metadata": {},
     "output_type": "execute_result"
    }
   ],
   "source": [
    "df_test = pd.read_csv(\"data/task1_test.tsv\", sep=\"\\t\")\n",
    "queries_test = pd.merge(queries, df_test, left_on='query-id', right_on='query-id', how='inner').drop(columns=[\"id\"])\n",
    "queries_test"
   ]
  },
  {
   "cell_type": "markdown",
   "id": "493c6acb-d7aa-4aef-a7a0-a7e5a67aa136",
   "metadata": {},
   "source": [
    "# WATCH OUT HERE IS CRITIAL CHANGING CODE ..."
   ]
  },
  {
   "cell_type": "code",
   "execution_count": 118,
   "id": "03bf908a-81e1-4627-af53-8febff3be90d",
   "metadata": {
    "ExecuteTime": {
     "end_time": "2023-10-18T19:12:53.439620400Z",
     "start_time": "2023-10-18T19:12:53.430666500Z"
    }
   },
   "outputs": [
    {
     "name": "stdout",
     "output_type": "stream",
     "text": [
      "Used corpus length : 1471406\n",
      "Used queries length : 7437\n"
     ]
    }
   ],
   "source": [
    "# queries2 = queries_test\n",
    "queries2 = queries_train_subset\n",
    "corpus2 = corpus\n",
    "print(f\"Used corpus length : {len(corpus2)}\")\n",
    "print(f\"Used queries length : {len(queries2)}\")"
   ]
  },
  {
   "cell_type": "markdown",
   "id": "e7f8bd9e-f8cf-400e-b7f8-1b583fedc35b",
   "metadata": {},
   "source": [
    "# TF-IDF Functions"
   ]
  },
  {
   "cell_type": "code",
   "execution_count": 87,
   "id": "b9378b82-4ada-4a18-9420-9bb500904c8d",
   "metadata": {
    "ExecuteTime": {
     "end_time": "2023-10-18T18:44:11.781685500Z",
     "start_time": "2023-10-18T18:44:11.740781Z"
    }
   },
   "outputs": [],
   "source": [
    "# Download necessary resources\n",
    "nltk.download('punkt', quiet=True)\n",
    "nltk.download('stopwords', quiet=True)\n",
    "nltk.download('wordnet', quiet=True)\n",
    "\n",
    "STEMMER = PorterStemmer()\n",
    "LEMMATIZER = WordNetLemmatizer()\n",
    "\n",
    "# Precompile regex patterns for efficiency\n",
    "HTML_PATTERN = re.compile(\"(<.*?>)\")\n",
    "NON_ASCII_DIGITS_PATTERN = re.compile(\"(\\\\W|\\\\d)\")\n",
    "NON_ASCII_CHARS_PATTERN = re.compile(r'[^\\x00-\\x7F]+')\n",
    "PUNCTUATION_PATTERN = re.compile(f\"[{re.escape(string.punctuation)}]\")\n",
    "\n",
    "# Convert stopwords list to set for faster lookup\n",
    "STOPWORDS_SET = set(stopwords.words(\"english\"))"
   ]
  },
  {
   "cell_type": "code",
   "execution_count": 88,
   "outputs": [],
   "source": [
    "from gensim.models import KeyedVectors\n",
    "from gensim import downloader as api\n",
    "\n",
    "try:\n",
    "    model = KeyedVectors.load('data/glove.model.d2v')\n",
    "except:\n",
    "    print(\"model not found, loading from api\")\n",
    "    model = api.load(\"glove-wiki-gigaword-50\")\n",
    "    model.save('data/glove.model.d2v')"
   ],
   "metadata": {
    "collapsed": false,
    "ExecuteTime": {
     "end_time": "2023-10-18T18:44:11.900637900Z",
     "start_time": "2023-10-18T18:44:11.753335Z"
    }
   },
   "id": "83a95cbf182cc622"
  },
  {
   "cell_type": "code",
   "execution_count": 89,
   "id": "030f9432-a022-4db1-a839-2329a27b06b3",
   "metadata": {
    "ExecuteTime": {
     "end_time": "2023-10-18T18:44:11.936114400Z",
     "start_time": "2023-10-18T18:44:11.927639100Z"
    }
   },
   "outputs": [],
   "source": [
    "def preprocess_text(text):\n",
    "    \"\"\"Optimized text preprocessing function.\"\"\"\n",
    "    \n",
    "    # Convert to lowercase early on\n",
    "    text = text.lower()\n",
    "    \n",
    "    # Cleaning using compiled regex patterns\n",
    "    text = HTML_PATTERN.sub(\"\", text)\n",
    "    text = NON_ASCII_DIGITS_PATTERN.sub(\"\", text)\n",
    "    text = NON_ASCII_CHARS_PATTERN.sub('', text)\n",
    "    text = PUNCTUATION_PATTERN.sub('', text)\n",
    "    \n",
    "    # Tokenization\n",
    "    tokens = nltk.word_tokenize(text)\n",
    "    \n",
    "    # Remove stopwords, and then perform Stemming and Lemmatization\n",
    "    preprocessed_tokens = [\n",
    "        # STEMMER.stem(LEMMATIZER.lemmatize(word))\n",
    "        STEMMER.stem(word)\n",
    "        for word in tokens\n",
    "        if word not in STOPWORDS_SET\n",
    "    ]\n",
    "    \n",
    "    return preprocessed_tokens\n",
    "\n",
    "stemmer = PorterStemmer()\n",
    "\n",
    "def preprocess_text(text):\n",
    "    # Convert to lowercase\n",
    "    text = text.lower()\n",
    "    \n",
    "    def is_bad_word(s):\n",
    "        return len(s) <= 1 or any(i not in string.printable or i in string.digits for i in s)\n",
    "\n",
    "    words = text.split()\n",
    "    cleaned_words = [word for word in words if not is_bad_word(word)]\n",
    "    text = \" \".join(cleaned_words)\n",
    "\n",
    "    # the text contains many unidentified character, we decide to keep only ASCII characters\n",
    "    text = re.sub(r'\\\\u[0-9a-fA-F]{4}', '', text)\n",
    "\n",
    "    #remove punctuation and digits\n",
    "    text = text.translate(str.maketrans(string.punctuation, ' ' * len(string.punctuation)))\n",
    "    text = text.translate(str.maketrans('', '', string.digits))\n",
    "\n",
    "    # Tokenize the text (split it into words)\n",
    "    words = nltk.word_tokenize(text)\n",
    "\n",
    "    # Remove stopwords\n",
    "    stopwords_ = stopwords.words('english')\n",
    "    words = [stemmer.stem(word) for word in words if word not in stopwords_ and word in model]\n",
    "\n",
    "    # Lemmatize words\n",
    "    #words = [lemmatizer.lemmatize(word) for word in words]\n",
    "    return words"
   ]
  },
  {
   "cell_type": "code",
   "execution_count": 91,
   "id": "a13d4985-6841-4cf6-89bf-21e3eeffcf20",
   "metadata": {
    "ExecuteTime": {
     "end_time": "2023-10-18T18:44:11.969933100Z",
     "start_time": "2023-10-18T18:44:11.945192400Z"
    }
   },
   "outputs": [],
   "source": [
    "def populate_tfidf_dataframe(documents, vocabulary):\n",
    "    # Create a list of dictionaries with term frequencies\n",
    "    list_of_dicts = [Counter(doc) for doc in documents]\n",
    "    \n",
    "    # Convert the list of dictionaries to a DataFrame\n",
    "    df = pd.DataFrame(list_of_dicts).fillna(0)\n",
    "    \n",
    "    # Reorder columns according to the vocabulary and fill missing columns with 0\n",
    "    df = df.reindex(columns=vocabulary, fill_value=0)\n",
    "    \n",
    "    return df\n",
    "\n",
    "def populate_tfidf_dataframe_sparse(documents, vocabulary):\n",
    "    # Create a sparse matrix to hold the term frequencies\n",
    "    tf_matrix = lil_matrix((len(documents), len(vocabulary)), dtype=int)\n",
    "\n",
    "    # Map each word in the vocabulary to its column index for faster lookup\n",
    "    vocab_index_map = {word: idx for idx, word in enumerate(vocabulary)}\n",
    "\n",
    "    for i, doc in enumerate(documents):\n",
    "        for word in doc:\n",
    "            if word in vocab_index_map:\n",
    "                tf_matrix[i, vocab_index_map[word]] += 1\n",
    "\n",
    "    return tf_matrix"
   ]
  },
  {
   "cell_type": "code",
   "execution_count": 92,
   "id": "bd4a706a-ab9e-4b19-adb9-5337cb5abf57",
   "metadata": {
    "ExecuteTime": {
     "end_time": "2023-10-18T18:44:11.990979700Z",
     "start_time": "2023-10-18T18:44:11.953907800Z"
    }
   },
   "outputs": [],
   "source": [
    "def tfidf(corpus_text):\n",
    "    print(\"Process docs ... 2\")\n",
    "    documents = corpus_text.progress_apply(lambda x: preprocess_text(x))\n",
    "\n",
    "    print(\"Create vocab ...\")\n",
    "    vocabulary = list(set(word for doc in documents for word in doc))\n",
    "    vocabulary.sort()\n",
    "\n",
    "    print(\"Compute tf ...\")\n",
    "    tf_matrix = populate_tfidf_dataframe_sparse(documents, vocabulary)\n",
    "\n",
    "    print(\"Compute idf ...\")\n",
    "    doc_count = len(documents)\n",
    "    df = (tf_matrix > 0).sum(axis=0)\n",
    "    idf = np.log(doc_count / df)\n",
    "\n",
    "    print(\"Compute tf-idf ...\")\n",
    "    tf_matrix = tf_matrix.tocsr()\n",
    "    tf_matrix = tf_matrix.multiply(1 / tf_matrix.sum(axis=1))\n",
    "    tfidf_matrix = tf_matrix.multiply(idf)\n",
    "\n",
    "    print(\"Done!\")\n",
    "    return documents, tfidf_matrix, vocabulary, idf"
   ]
  },
  {
   "cell_type": "code",
   "execution_count": 93,
   "id": "41fed44e-b71d-4d7c-b70e-ff0b796739c5",
   "metadata": {
    "ExecuteTime": {
     "end_time": "2023-10-18T18:44:11.990979700Z",
     "start_time": "2023-10-18T18:44:11.974528300Z"
    }
   },
   "outputs": [],
   "source": [
    "def preprocess_query(query):\n",
    "    \"\"\"Tokenize, stem, and remove stopwords from the query.\"\"\"\n",
    "    return preprocess_text(query)  "
   ]
  },
  {
   "cell_type": "markdown",
   "id": "2c9b1d9a-fb90-41dc-87b9-bc4f37eea416",
   "metadata": {},
   "source": [
    "# Corpus Processing"
   ]
  },
  {
   "cell_type": "code",
   "execution_count": 97,
   "id": "825e7fab-1ef8-40e6-b492-6ed1cc61a577",
   "metadata": {
    "ExecuteTime": {
     "end_time": "2023-10-18T19:03:58.034270100Z",
     "start_time": "2023-10-18T18:44:12.008437400Z"
    }
   },
   "outputs": [
    {
     "name": "stdout",
     "output_type": "stream",
     "text": [
      "Process docs ... 2\n"
     ]
    },
    {
     "name": "stderr",
     "output_type": "stream",
     "text": [
      "100%|██████████| 1471406/1471406 [17:40<00:00, 1388.11it/s]\n"
     ]
    },
    {
     "name": "stdout",
     "output_type": "stream",
     "text": [
      "Create vocab ...\n",
      "Compute tf ...\n",
      "Compute idf ...\n",
      "Compute tf-idf ...\n"
     ]
    },
    {
     "name": "stderr",
     "output_type": "stream",
     "text": [
      "C:\\Users\\balanton\\AppData\\Local\\Temp\\ipykernel_17048\\1929128140.py:44: RuntimeWarning: divide by zero encountered in divide\n",
      "  tf_matrix = tf_matrix.multiply(1 / tf_matrix.sum(axis=1))\n"
     ]
    },
    {
     "name": "stdout",
     "output_type": "stream",
     "text": [
      "Done!\n",
      "CPU times: total: 6min 16s\n",
      "Wall time: 19min 46s\n"
     ]
    },
    {
     "data": {
      "text/plain": "1471406"
     },
     "execution_count": 97,
     "metadata": {},
     "output_type": "execute_result"
    }
   ],
   "source": [
    "%%time\n",
    "_, tfidf, vocabulary, idf = tfidf(corpus2[\"text\"])\n",
    "len(corpus2[\"text\"])"
   ]
  },
  {
   "cell_type": "code",
   "execution_count": 98,
   "outputs": [],
   "source": [
    "import pickle\n",
    "\n",
    "with open('output/tfidf-ay.pkl', 'wb') as f:\n",
    "    pickle.dump(tfidf, f)\n",
    "\n",
    "with open('output/idf-ay.pkl', 'wb') as f:\n",
    "    pickle.dump(idf, f)\n",
    "    \n",
    "with open('output/vocabulary-ay.pkl', 'wb') as f:\n",
    "    pickle.dump(vocabulary, f)"
   ],
   "metadata": {
    "collapsed": false,
    "ExecuteTime": {
     "end_time": "2023-10-18T19:03:58.492673500Z",
     "start_time": "2023-10-18T19:03:58.034270100Z"
    }
   },
   "id": "da58e2d9c84f798f"
  },
  {
   "cell_type": "raw",
   "id": "61b242fb-0ce1-4499-ac6d-074fdaecee6f",
   "metadata": {},
   "source": [
    "l2_norms = sparse_norm(tfidf, axis=1)\n",
    "normalized_tfidf = tfidf / l2_norms[:, None]\n",
    "normalized_tfidf.shape"
   ]
  },
  {
   "cell_type": "code",
   "execution_count": 108,
   "outputs": [
    {
     "data": {
      "text/plain": "135442"
     },
     "execution_count": 108,
     "metadata": {},
     "output_type": "execute_result"
    }
   ],
   "source": [
    "len(vocabulary)"
   ],
   "metadata": {
    "collapsed": false,
    "ExecuteTime": {
     "end_time": "2023-10-18T19:05:44.482693100Z",
     "start_time": "2023-10-18T19:05:44.462404500Z"
    }
   },
   "id": "a9e1c45b3dfe1a9e"
  },
  {
   "cell_type": "code",
   "execution_count": 39,
   "outputs": [],
   "source": [
    "tfidf = pd.read_pickle('output/tfidf-stem.pkl')\n",
    "idf = pd.read_pickle('output/idf-stem.pkl')\n",
    "vocabulary = pd.read_pickle('output/vocabulary-stem.pkl')"
   ],
   "metadata": {
    "collapsed": false,
    "ExecuteTime": {
     "end_time": "2023-10-18T18:01:25.338040800Z",
     "start_time": "2023-10-18T18:01:24.426710600Z"
    }
   },
   "id": "bfc444c96a086c5f"
  },
  {
   "cell_type": "code",
   "execution_count": 107,
   "outputs": [
    {
     "data": {
      "text/plain": "135442"
     },
     "execution_count": 107,
     "metadata": {},
     "output_type": "execute_result"
    }
   ],
   "source": [
    "len(vocabulary)"
   ],
   "metadata": {
    "collapsed": false,
    "ExecuteTime": {
     "end_time": "2023-10-18T19:05:34.154989900Z",
     "start_time": "2023-10-18T19:05:34.145457Z"
    }
   },
   "id": "67df6845547c9db2"
  },
  {
   "cell_type": "markdown",
   "id": "5db6d0c2-7a98-47fc-9b44-2cb782163ead",
   "metadata": {},
   "source": [
    "# Queries Processing"
   ]
  },
  {
   "cell_type": "code",
   "execution_count": null,
   "outputs": [],
   "source": [
    "def top_k_indices_sparse(matrix: csr_matrix, k: int):\n",
    "    \"\"\"Get top k indices for each row of a sparse matrix.\"\"\"\n",
    "    \n",
    "    # Placeholder list for top k indices for each row\n",
    "    top_indices = []\n",
    "    \n",
    "    # Iterate over each row\n",
    "    print('Iterate over each row ...')\n",
    "    for i in range(matrix.shape[0]):\n",
    "        row_data = matrix.data[matrix.indptr[i]:matrix.indptr[i+1]]\n",
    "        row_indices = matrix.indices[matrix.indptr[i]:matrix.indptr[i+1]]\n",
    "        \n",
    "        # If the row has less than k values, take them all\n",
    "        if len(row_data) < k:\n",
    "            top_indices.append(row_indices)\n",
    "        else:\n",
    "            # Sort the row data and get top k indices\n",
    "            sorted_indices = np.argsort(-row_data)\n",
    "            top_indices.append(row_indices[sorted_indices[:k]])\n",
    "    \n",
    "    return top_indices"
   ],
   "metadata": {
    "collapsed": false
   },
   "id": "e31ecf5e68e9ed1"
  },
  {
   "cell_type": "code",
   "execution_count": null,
   "outputs": [],
   "source": [
    "def predict_documents(tfidf_matrix_normalized, query_vectors, k):\n",
    "    \"\"\"Process multiple queries and return ranked document indices for each query.\"\"\"\n",
    "    \n",
    "    # Compute cosine similarities using matrix operations\n",
    "    print(\"Compute cosine similarities ...\")\n",
    "    similarity_matrix = cosine_similarity(query_vectors, tfidf_matrix_normalized, dense_output=False)\n",
    "    \n",
    "    # Get document indices ranked by relevance for each query\n",
    "    print(\"Rank documents ...\")\n",
    "    # print(similarity_matrix.shape)\n",
    "    # ranked_doc_indices = np.argsort(-similarity_matrix)[:, :k]\n",
    "    ranked_doc_indices = top_k_indices_sparse(similarity_matrix, k)\n",
    "    \n",
    "    return ranked_doc_indices"
   ],
   "metadata": {
    "collapsed": false
   },
   "id": "c811edc8b752d8b3"
  },
  {
   "cell_type": "code",
   "execution_count": 127,
   "id": "8b091f30-ee70-44e1-a2bb-7c8b17764c71",
   "metadata": {
    "ExecuteTime": {
     "end_time": "2023-10-18T19:18:56.774455Z",
     "start_time": "2023-10-18T19:18:56.769132200Z"
    }
   },
   "outputs": [],
   "source": [
    "def predictions_to_ids_ranking(corpus, queries, prediction):\n",
    "    \n",
    "    print(\"Mapping results ...\")\n",
    "    mapped_results = [corpus.iloc[row]['corpus-id'].values for row in prediction]\n",
    "    df = pd.DataFrame(mapped_results)\n",
    "    df.insert(0, 'query-id', queries['query-id'].iloc[:len(df)])\n",
    "    df.columns = ['query-id'] + [f'rank-{i}' for i in range(1, df.shape[1])]\n",
    "    return df\n",
    "\n",
    "# def predictions_to_ids_ranking(corpus, queries, prediction):\n",
    "#     # Map the prediction rows to the corresponding 'corpus-id' values from the corpus\n",
    "#     mapped_results = [corpus.iloc[row]['corpus-id'].values.tolist() for row in prediction]\n",
    "#     \n",
    "#     # Create a DataFrame with 'id', 'corpus-id', and 'score' columns\n",
    "#     df = pd.DataFrame({\n",
    "#         'id': queries['query-id'].iloc[:len(mapped_results)],\n",
    "#         'corpus-id': mapped_results,\n",
    "#         'score': [-1 for _ in range(len(mapped_results))]\n",
    "#     })\n",
    "#     \n",
    "#     return df\n",
    "    \n",
    "#predictions_to_ids_ranking(corpus2, queries2, prediction)"
   ]
  },
  {
   "cell_type": "code",
   "execution_count": 128,
   "id": "09b0c291-7e22-468b-8451-9adc3b89e29d",
   "metadata": {
    "ExecuteTime": {
     "end_time": "2023-10-18T19:19:02.578707500Z",
     "start_time": "2023-10-18T19:19:00.625144500Z"
    }
   },
   "outputs": [
    {
     "name": "stdout",
     "output_type": "stream",
     "text": [
      "Process queries 2 ...\n"
     ]
    },
    {
     "name": "stderr",
     "output_type": "stream",
     "text": [
      "<timed exec>:34: SettingWithCopyWarning: \n",
      "A value is trying to be set on a copy of a slice from a DataFrame.\n",
      "Try using .loc[row_indexer,col_indexer] = value instead\n",
      "\n",
      "See the caveats in the documentation: https://pandas.pydata.org/pandas-docs/stable/user_guide/indexing.html#returning-a-view-versus-a-copy\n"
     ]
    },
    {
     "name": "stdout",
     "output_type": "stream",
     "text": [
      "Initialize sparse matrix ...\n",
      "Compute  tf ...\n",
      "Multiply by idf ...\n",
      "Done !\n",
      "CPU times: total: 672 ms\n",
      "Wall time: 1.95 s\n"
     ]
    },
    {
     "data": {
      "text/plain": "<7437x135442 sparse matrix of type '<class 'numpy.float64'>'\n\twith 28643 stored elements in COOrdinate format>"
     },
     "execution_count": 128,
     "metadata": {},
     "output_type": "execute_result"
    }
   ],
   "source": [
    "%%time\n",
    "\n",
    "def vectorize_queries(queries_df, vocabulary, idf):\n",
    "    \"\"\"Convert each query in the DataFrame into its TF-IDF vector.\"\"\"\n",
    "    \n",
    "    print(\"Process queries ...\")\n",
    "    # Preprocess all queries\n",
    "    queries_df.loc[:,'processed'] = queries_df['text'].apply(preprocess_query)\n",
    "\n",
    "    print(\"Prepare dataframe ...\")\n",
    "    # Flatten for efficient computation\n",
    "    flattened = queries_df.explode('processed')\n",
    "\n",
    "    print(\"Compute  tf ...\")\n",
    "    # Get dummy variables for each term\n",
    "    dummies = pd.get_dummies(flattened['processed']).groupby(flattened.index).sum()\n",
    "\n",
    "    print(\"Rename tf dataframe ...\")\n",
    "    # Create a DataFrame for term frequencies, using only the columns in our vocabulary\n",
    "    tf_df = dummies.reindex(columns=vocabulary, fill_value=0)\n",
    "\n",
    "    print(\"Multiply by idf ...\")\n",
    "    # Convert idf dictionary to a Series for easier multiplication\n",
    "    idf_series = pd.Series(idf)\n",
    "    \n",
    "    # Compute TF-IDF\n",
    "    tfidf_df = tf_df.multiply(idf_series, axis=1)\n",
    "    print(\"Done !\")\n",
    "    return tfidf_df\n",
    "\n",
    "def vectorize_queries(queries_df, vocabulary, idf):\n",
    "    \"\"\"Convert each query in the DataFrame into its TF-IDF vector.\"\"\"\n",
    "    \n",
    "    print(\"Process queries 2 ...\")\n",
    "    # Preprocess all queries\n",
    "    queries_df['processed'] = queries_df['text'].apply(preprocess_query)\n",
    "\n",
    "    print(\"Initialize sparse matrix ...\")\n",
    "    num_queries = len(queries_df)\n",
    "    num_terms = len(vocabulary)\n",
    "    \n",
    "    # Using a dictionary for term index lookup\n",
    "    vocab_dict = {term: index for index, term in enumerate(vocabulary)}\n",
    "    tf_matrix = lil_matrix((num_queries, num_terms))\n",
    "\n",
    "    print(\"Compute  tf ...\")\n",
    "    # Populate the sparse matrix\n",
    "    for idx, row in queries_df.iterrows():\n",
    "        for term in row['processed']:\n",
    "            if term in vocab_dict:\n",
    "                tf_matrix[idx, vocab_dict[term]] += 1\n",
    "\n",
    "    print(\"Multiply by idf ...\")\n",
    "    # Convert to CSR format for efficient multiplication and transform TFs to TF-IDF\n",
    "    tfidf_matrix = (tf_matrix.tocsr()).multiply(idf)\n",
    "\n",
    "    print(\"Done !\")\n",
    "    return tfidf_matrix\n",
    "\n",
    "vectors = vectorize_queries(queries2, vocabulary, idf)\n",
    "vectors"
   ]
  },
  {
   "cell_type": "code",
   "execution_count": 121,
   "outputs": [
    {
     "name": "stdout",
     "output_type": "stream",
     "text": [
      "Compute cosine similarities ...\n",
      "Rank documents ...\n",
      "Iterate over each row ...\n"
     ]
    }
   ],
   "source": [
    "prediction = predict_documents(tfidf, vectors, 10)"
   ],
   "metadata": {
    "collapsed": false,
    "ExecuteTime": {
     "end_time": "2023-10-18T19:14:15.057505200Z",
     "start_time": "2023-10-18T19:13:23.995683900Z"
    }
   },
   "id": "83c1ed09479af3db"
  },
  {
   "cell_type": "code",
   "execution_count": 129,
   "id": "32fb1741-2b41-4984-8569-35285f8fb000",
   "metadata": {
    "ExecuteTime": {
     "end_time": "2023-10-18T19:19:11.771871800Z",
     "start_time": "2023-10-18T19:19:11.296552500Z"
    }
   },
   "outputs": [
    {
     "name": "stdout",
     "output_type": "stream",
     "text": [
      "Mapping results ...\n",
      "CPU times: total: 234 ms\n",
      "Wall time: 473 ms\n"
     ]
    }
   ],
   "source": [
    "%%time\n",
    "map_ = predictions_to_ids_ranking(corpus,queries2,prediction)"
   ]
  },
  {
   "cell_type": "code",
   "execution_count": 130,
   "outputs": [
    {
     "data": {
      "text/plain": "      query-id     rank-1     rank-2     rank-3     rank-4     rank-5  \\\n0            3  3060840.0  4017713.0  6810084.0  3924145.0  4054972.0   \n1            4  3483260.0  7882593.0  5613530.0  1897001.0  6161435.0   \n2            5  3823109.0  1474051.0  3090587.0  4956433.0  4783951.0   \n3            6  1931415.0   607642.0  8147639.0  5799740.0  5751818.0   \n4            8  3232970.0  2380588.0  3852443.0   294627.0   142019.0   \n...        ...        ...        ...        ...        ...        ...   \n7432     18204   622811.0  3699536.0  4027354.0  2310510.0   366533.0   \n7433     18205   912451.0  1235451.0  4027354.0  7876668.0  5801430.0   \n7434     18208   869926.0  4975091.0  2824382.0  4396909.0  4975089.0   \n7435     18209   828552.0   869926.0  4975091.0  2824382.0  4396909.0   \n7436     18211  7317465.0  1447184.0  1205411.0  6348398.0  6836001.0   \n\n         rank-6     rank-7     rank-8     rank-9    rank-10  \n0     1142680.0  4614442.0  6979298.0  1907989.0  4884133.0  \n1     6207070.0  6640812.0  1062386.0  5745282.0  1006351.0  \n2     7296715.0  7841695.0  5034673.0  7296711.0  4997248.0  \n3     7640836.0  5441940.0  5371373.0  6391108.0  7746209.0  \n4     6977529.0   993853.0  7926255.0  3740282.0  2832726.0  \n...         ...        ...        ...        ...        ...  \n7432  5801430.0  4913273.0  2128451.0  5801434.0   912451.0  \n7433   912448.0  2310510.0  5801434.0   366533.0  4913273.0  \n7434  6912140.0  2566514.0  5287460.0  4975090.0  1090706.0  \n7435  6912140.0  2566514.0  4975089.0  4975090.0  1090706.0  \n7436  5606239.0  5465095.0   848094.0   749020.0  2062438.0  \n\n[7437 rows x 11 columns]",
      "text/html": "<div>\n<style scoped>\n    .dataframe tbody tr th:only-of-type {\n        vertical-align: middle;\n    }\n\n    .dataframe tbody tr th {\n        vertical-align: top;\n    }\n\n    .dataframe thead th {\n        text-align: right;\n    }\n</style>\n<table border=\"1\" class=\"dataframe\">\n  <thead>\n    <tr style=\"text-align: right;\">\n      <th></th>\n      <th>query-id</th>\n      <th>rank-1</th>\n      <th>rank-2</th>\n      <th>rank-3</th>\n      <th>rank-4</th>\n      <th>rank-5</th>\n      <th>rank-6</th>\n      <th>rank-7</th>\n      <th>rank-8</th>\n      <th>rank-9</th>\n      <th>rank-10</th>\n    </tr>\n  </thead>\n  <tbody>\n    <tr>\n      <th>0</th>\n      <td>3</td>\n      <td>3060840.0</td>\n      <td>4017713.0</td>\n      <td>6810084.0</td>\n      <td>3924145.0</td>\n      <td>4054972.0</td>\n      <td>1142680.0</td>\n      <td>4614442.0</td>\n      <td>6979298.0</td>\n      <td>1907989.0</td>\n      <td>4884133.0</td>\n    </tr>\n    <tr>\n      <th>1</th>\n      <td>4</td>\n      <td>3483260.0</td>\n      <td>7882593.0</td>\n      <td>5613530.0</td>\n      <td>1897001.0</td>\n      <td>6161435.0</td>\n      <td>6207070.0</td>\n      <td>6640812.0</td>\n      <td>1062386.0</td>\n      <td>5745282.0</td>\n      <td>1006351.0</td>\n    </tr>\n    <tr>\n      <th>2</th>\n      <td>5</td>\n      <td>3823109.0</td>\n      <td>1474051.0</td>\n      <td>3090587.0</td>\n      <td>4956433.0</td>\n      <td>4783951.0</td>\n      <td>7296715.0</td>\n      <td>7841695.0</td>\n      <td>5034673.0</td>\n      <td>7296711.0</td>\n      <td>4997248.0</td>\n    </tr>\n    <tr>\n      <th>3</th>\n      <td>6</td>\n      <td>1931415.0</td>\n      <td>607642.0</td>\n      <td>8147639.0</td>\n      <td>5799740.0</td>\n      <td>5751818.0</td>\n      <td>7640836.0</td>\n      <td>5441940.0</td>\n      <td>5371373.0</td>\n      <td>6391108.0</td>\n      <td>7746209.0</td>\n    </tr>\n    <tr>\n      <th>4</th>\n      <td>8</td>\n      <td>3232970.0</td>\n      <td>2380588.0</td>\n      <td>3852443.0</td>\n      <td>294627.0</td>\n      <td>142019.0</td>\n      <td>6977529.0</td>\n      <td>993853.0</td>\n      <td>7926255.0</td>\n      <td>3740282.0</td>\n      <td>2832726.0</td>\n    </tr>\n    <tr>\n      <th>...</th>\n      <td>...</td>\n      <td>...</td>\n      <td>...</td>\n      <td>...</td>\n      <td>...</td>\n      <td>...</td>\n      <td>...</td>\n      <td>...</td>\n      <td>...</td>\n      <td>...</td>\n      <td>...</td>\n    </tr>\n    <tr>\n      <th>7432</th>\n      <td>18204</td>\n      <td>622811.0</td>\n      <td>3699536.0</td>\n      <td>4027354.0</td>\n      <td>2310510.0</td>\n      <td>366533.0</td>\n      <td>5801430.0</td>\n      <td>4913273.0</td>\n      <td>2128451.0</td>\n      <td>5801434.0</td>\n      <td>912451.0</td>\n    </tr>\n    <tr>\n      <th>7433</th>\n      <td>18205</td>\n      <td>912451.0</td>\n      <td>1235451.0</td>\n      <td>4027354.0</td>\n      <td>7876668.0</td>\n      <td>5801430.0</td>\n      <td>912448.0</td>\n      <td>2310510.0</td>\n      <td>5801434.0</td>\n      <td>366533.0</td>\n      <td>4913273.0</td>\n    </tr>\n    <tr>\n      <th>7434</th>\n      <td>18208</td>\n      <td>869926.0</td>\n      <td>4975091.0</td>\n      <td>2824382.0</td>\n      <td>4396909.0</td>\n      <td>4975089.0</td>\n      <td>6912140.0</td>\n      <td>2566514.0</td>\n      <td>5287460.0</td>\n      <td>4975090.0</td>\n      <td>1090706.0</td>\n    </tr>\n    <tr>\n      <th>7435</th>\n      <td>18209</td>\n      <td>828552.0</td>\n      <td>869926.0</td>\n      <td>4975091.0</td>\n      <td>2824382.0</td>\n      <td>4396909.0</td>\n      <td>6912140.0</td>\n      <td>2566514.0</td>\n      <td>4975089.0</td>\n      <td>4975090.0</td>\n      <td>1090706.0</td>\n    </tr>\n    <tr>\n      <th>7436</th>\n      <td>18211</td>\n      <td>7317465.0</td>\n      <td>1447184.0</td>\n      <td>1205411.0</td>\n      <td>6348398.0</td>\n      <td>6836001.0</td>\n      <td>5606239.0</td>\n      <td>5465095.0</td>\n      <td>848094.0</td>\n      <td>749020.0</td>\n      <td>2062438.0</td>\n    </tr>\n  </tbody>\n</table>\n<p>7437 rows × 11 columns</p>\n</div>"
     },
     "execution_count": 130,
     "metadata": {},
     "output_type": "execute_result"
    }
   ],
   "source": [
    "map_"
   ],
   "metadata": {
    "collapsed": false,
    "ExecuteTime": {
     "end_time": "2023-10-18T19:19:14.589902100Z",
     "start_time": "2023-10-18T19:19:14.577137400Z"
    }
   },
   "id": "d18532293cd380b"
  },
  {
   "cell_type": "code",
   "execution_count": null,
   "outputs": [],
   "source": [
    "def map_to_csv(map_):\n",
    "    map_ = map_.drop(columns=['id'])\n",
    "    map_.to_csv(\"output/predictions-ay.csv\", index=True, header=True)"
   ],
   "metadata": {
    "collapsed": false,
    "ExecuteTime": {
     "end_time": "2023-10-18T19:13:18.598885200Z",
     "start_time": "2023-10-18T19:13:18.597884700Z"
    }
   },
   "id": "a8393d0b8b56f053"
  },
  {
   "cell_type": "code",
   "execution_count": 117,
   "outputs": [],
   "source": [
    "map_to_csv(map_)"
   ],
   "metadata": {
    "collapsed": false,
    "ExecuteTime": {
     "end_time": "2023-10-18T19:09:58.744713300Z",
     "start_time": "2023-10-18T19:09:58.678822900Z"
    }
   },
   "id": "dd3e2a8438b85e06"
  },
  {
   "cell_type": "code",
   "execution_count": 124,
   "outputs": [
    {
     "ename": "KeyError",
     "evalue": "'query-id'",
     "output_type": "error",
     "traceback": [
      "\u001B[1;31m---------------------------------------------------------------------------\u001B[0m",
      "\u001B[1;31mKeyError\u001B[0m                                  Traceback (most recent call last)",
      "File \u001B[1;32m~\\anaconda3\\Lib\\site-packages\\pandas\\core\\indexes\\base.py:3653\u001B[0m, in \u001B[0;36mIndex.get_loc\u001B[1;34m(self, key)\u001B[0m\n\u001B[0;32m   3652\u001B[0m \u001B[38;5;28;01mtry\u001B[39;00m:\n\u001B[1;32m-> 3653\u001B[0m     \u001B[38;5;28;01mreturn\u001B[39;00m \u001B[38;5;28mself\u001B[39m\u001B[38;5;241m.\u001B[39m_engine\u001B[38;5;241m.\u001B[39mget_loc(casted_key)\n\u001B[0;32m   3654\u001B[0m \u001B[38;5;28;01mexcept\u001B[39;00m \u001B[38;5;167;01mKeyError\u001B[39;00m \u001B[38;5;28;01mas\u001B[39;00m err:\n",
      "File \u001B[1;32m~\\anaconda3\\Lib\\site-packages\\pandas\\_libs\\index.pyx:147\u001B[0m, in \u001B[0;36mpandas._libs.index.IndexEngine.get_loc\u001B[1;34m()\u001B[0m\n",
      "File \u001B[1;32m~\\anaconda3\\Lib\\site-packages\\pandas\\_libs\\index.pyx:176\u001B[0m, in \u001B[0;36mpandas._libs.index.IndexEngine.get_loc\u001B[1;34m()\u001B[0m\n",
      "File \u001B[1;32mpandas\\_libs\\hashtable_class_helper.pxi:7080\u001B[0m, in \u001B[0;36mpandas._libs.hashtable.PyObjectHashTable.get_item\u001B[1;34m()\u001B[0m\n",
      "File \u001B[1;32mpandas\\_libs\\hashtable_class_helper.pxi:7088\u001B[0m, in \u001B[0;36mpandas._libs.hashtable.PyObjectHashTable.get_item\u001B[1;34m()\u001B[0m\n",
      "\u001B[1;31mKeyError\u001B[0m: 'query-id'",
      "\nThe above exception was the direct cause of the following exception:\n",
      "\u001B[1;31mKeyError\u001B[0m                                  Traceback (most recent call last)",
      "Cell \u001B[1;32mIn[124], line 1\u001B[0m\n\u001B[1;32m----> 1\u001B[0m \u001B[38;5;28mprint\u001B[39m(queries2[queries2[\u001B[38;5;124m\"\u001B[39m\u001B[38;5;124mquery-id\u001B[39m\u001B[38;5;124m\"\u001B[39m] \u001B[38;5;241m==\u001B[39m map_\u001B[38;5;241m.\u001B[39miloc[\u001B[38;5;241m0\u001B[39m][\u001B[38;5;124m'\u001B[39m\u001B[38;5;124mquery-id\u001B[39m\u001B[38;5;124m'\u001B[39m]][\u001B[38;5;124m\"\u001B[39m\u001B[38;5;124mtext\u001B[39m\u001B[38;5;124m\"\u001B[39m]\u001B[38;5;241m.\u001B[39mvalues[\u001B[38;5;241m0\u001B[39m])\n",
      "File \u001B[1;32m~\\anaconda3\\Lib\\site-packages\\pandas\\core\\series.py:1007\u001B[0m, in \u001B[0;36mSeries.__getitem__\u001B[1;34m(self, key)\u001B[0m\n\u001B[0;32m   1004\u001B[0m     \u001B[38;5;28;01mreturn\u001B[39;00m \u001B[38;5;28mself\u001B[39m\u001B[38;5;241m.\u001B[39m_values[key]\n\u001B[0;32m   1006\u001B[0m \u001B[38;5;28;01melif\u001B[39;00m key_is_scalar:\n\u001B[1;32m-> 1007\u001B[0m     \u001B[38;5;28;01mreturn\u001B[39;00m \u001B[38;5;28mself\u001B[39m\u001B[38;5;241m.\u001B[39m_get_value(key)\n\u001B[0;32m   1009\u001B[0m \u001B[38;5;28;01mif\u001B[39;00m is_hashable(key):\n\u001B[0;32m   1010\u001B[0m     \u001B[38;5;66;03m# Otherwise index.get_value will raise InvalidIndexError\u001B[39;00m\n\u001B[0;32m   1011\u001B[0m     \u001B[38;5;28;01mtry\u001B[39;00m:\n\u001B[0;32m   1012\u001B[0m         \u001B[38;5;66;03m# For labels that don't resolve as scalars like tuples and frozensets\u001B[39;00m\n",
      "File \u001B[1;32m~\\anaconda3\\Lib\\site-packages\\pandas\\core\\series.py:1116\u001B[0m, in \u001B[0;36mSeries._get_value\u001B[1;34m(self, label, takeable)\u001B[0m\n\u001B[0;32m   1113\u001B[0m     \u001B[38;5;28;01mreturn\u001B[39;00m \u001B[38;5;28mself\u001B[39m\u001B[38;5;241m.\u001B[39m_values[label]\n\u001B[0;32m   1115\u001B[0m \u001B[38;5;66;03m# Similar to Index.get_value, but we do not fall back to positional\u001B[39;00m\n\u001B[1;32m-> 1116\u001B[0m loc \u001B[38;5;241m=\u001B[39m \u001B[38;5;28mself\u001B[39m\u001B[38;5;241m.\u001B[39mindex\u001B[38;5;241m.\u001B[39mget_loc(label)\n\u001B[0;32m   1118\u001B[0m \u001B[38;5;28;01mif\u001B[39;00m is_integer(loc):\n\u001B[0;32m   1119\u001B[0m     \u001B[38;5;28;01mreturn\u001B[39;00m \u001B[38;5;28mself\u001B[39m\u001B[38;5;241m.\u001B[39m_values[loc]\n",
      "File \u001B[1;32m~\\anaconda3\\Lib\\site-packages\\pandas\\core\\indexes\\base.py:3655\u001B[0m, in \u001B[0;36mIndex.get_loc\u001B[1;34m(self, key)\u001B[0m\n\u001B[0;32m   3653\u001B[0m     \u001B[38;5;28;01mreturn\u001B[39;00m \u001B[38;5;28mself\u001B[39m\u001B[38;5;241m.\u001B[39m_engine\u001B[38;5;241m.\u001B[39mget_loc(casted_key)\n\u001B[0;32m   3654\u001B[0m \u001B[38;5;28;01mexcept\u001B[39;00m \u001B[38;5;167;01mKeyError\u001B[39;00m \u001B[38;5;28;01mas\u001B[39;00m err:\n\u001B[1;32m-> 3655\u001B[0m     \u001B[38;5;28;01mraise\u001B[39;00m \u001B[38;5;167;01mKeyError\u001B[39;00m(key) \u001B[38;5;28;01mfrom\u001B[39;00m \u001B[38;5;21;01merr\u001B[39;00m\n\u001B[0;32m   3656\u001B[0m \u001B[38;5;28;01mexcept\u001B[39;00m \u001B[38;5;167;01mTypeError\u001B[39;00m:\n\u001B[0;32m   3657\u001B[0m     \u001B[38;5;66;03m# If we have a listlike key, _check_indexing_error will raise\u001B[39;00m\n\u001B[0;32m   3658\u001B[0m     \u001B[38;5;66;03m#  InvalidIndexError. Otherwise we fall through and re-raise\u001B[39;00m\n\u001B[0;32m   3659\u001B[0m     \u001B[38;5;66;03m#  the TypeError.\u001B[39;00m\n\u001B[0;32m   3660\u001B[0m     \u001B[38;5;28mself\u001B[39m\u001B[38;5;241m.\u001B[39m_check_indexing_error(key)\n",
      "\u001B[1;31mKeyError\u001B[0m: 'query-id'"
     ]
    }
   ],
   "source": [
    "print(queries2[queries2[\"query-id\"] == map_.iloc[0]['query-id']][\"text\"].values[0])"
   ],
   "metadata": {
    "collapsed": false,
    "ExecuteTime": {
     "end_time": "2023-10-18T19:15:15.064666500Z",
     "start_time": "2023-10-18T19:15:14.667871200Z"
    }
   },
   "id": "c07051ce99f2559c"
  },
  {
   "cell_type": "code",
   "execution_count": 46,
   "outputs": [
    {
     "data": {
      "text/plain": "Empty DataFrame\nColumns: [query-id, corpus-id, score]\nIndex: []",
      "text/html": "<div>\n<style scoped>\n    .dataframe tbody tr th:only-of-type {\n        vertical-align: middle;\n    }\n\n    .dataframe tbody tr th {\n        vertical-align: top;\n    }\n\n    .dataframe thead th {\n        text-align: right;\n    }\n</style>\n<table border=\"1\" class=\"dataframe\">\n  <thead>\n    <tr style=\"text-align: right;\">\n      <th></th>\n      <th>query-id</th>\n      <th>corpus-id</th>\n      <th>score</th>\n    </tr>\n  </thead>\n  <tbody>\n  </tbody>\n</table>\n</div>"
     },
     "execution_count": 46,
     "metadata": {},
     "output_type": "execute_result"
    }
   ],
   "source": [
    "query_corpus_train_map[query_corpus_train_map[\"query-id\"] == map_.iloc[0]['query-id']]"
   ],
   "metadata": {
    "collapsed": false,
    "ExecuteTime": {
     "end_time": "2023-10-18T18:03:44.779231700Z",
     "start_time": "2023-10-18T18:03:44.725587300Z"
    }
   },
   "id": "e95a6290d0e9af11"
  },
  {
   "cell_type": "code",
   "execution_count": 36,
   "outputs": [
    {
     "data": {
      "text/plain": "'The primary (parts of the cortex that receive sensory inputs from the thalamus) visual cortex is also known as V1, V isual area one, and the striate cortex.The extrastriate areas consist of visual areas two (V2), three (V3), four (V4), and five (V5).he primary visual cortex is the best-studied visual area in the brain. In all mammals studied, it is located in the posterior pole of the occipital cortex (the occipital cortex is responsible for processing visual stimuli).'"
     },
     "execution_count": 36,
     "metadata": {},
     "output_type": "execute_result"
    }
   ],
   "source": [
    "corpus[corpus[\"corpus-id\"] == 1142680][\"text\"].values[0]"
   ],
   "metadata": {
    "collapsed": false,
    "ExecuteTime": {
     "end_time": "2023-10-18T17:53:49.462575800Z",
     "start_time": "2023-10-18T17:53:49.458093100Z"
    }
   },
   "id": "233094f6b96a1d09"
  },
  {
   "cell_type": "code",
   "execution_count": 47,
   "outputs": [
    {
     "name": "stdout",
     "output_type": "stream",
     "text": [
      "The term SARMS stands for âSelective Androgen Receptor Modulators .â Androgens are a class of hormones that serve as ligands that bind to cellular androgen receptors. The androgen receptor is involved in a complex signal transduction pathway that ultimately results in greater expression of specific genes.\n",
      "__________________________________________________________\n",
      "Hormone therapy for prostate cancerâalso called androgen suppression therapy or androgen deprivation therapyâcan block the production and use of androgens (3). Currently available treatments can: Reduce androgen production by the testicles. Block the action of androgens in the body.\n",
      "__________________________________________________________\n",
      "Antiandrogens, are compounds either natural or synthetic, that have the ability to lower the levels of testosterone and DHT (the androgens) and/or prevent the natural androgen pathways and their functions by blocking the androgen receptors in tissue.\n",
      "__________________________________________________________\n",
      "been divided into two discrete subtypes: alpha adrenergic receptors (alpha receptors) and beta adrenergic receptors (beta receptors). The classification of these receptors, and indeed receptors in general, is based on the interaction of agonists and antagonists with the receptors.\n",
      "__________________________________________________________\n",
      "The androgen receptor (AR), also known as NR3C4 (nuclear receptor subfamily 3, group C, member 4), is a type of nuclear receptor that is activated by binding either of the androgenic hormones, testosterone, or dihydrotestosterone in the cytoplasm and then translocating into the nucleus.n some cell types, testosterone interacts directly with androgen receptors, whereas, in others, testosterone is converted by 5-alpha-reductase to dihydrotestosterone, an even more potent agonist for androgen receptor activation.\n",
      "__________________________________________________________\n",
      "Androgen: A male sex hormone that promotes the development and maintenance of the male sex characteristics. The major androgen is testosterone.\n",
      "__________________________________________________________\n",
      "For androgens as medications, see Anabolic steroid and Androgen replacement therapy. An androgen (from Greek andro meaning male human being) is any natural or synthetic compound, usually a steroid hormone, that stimulates or controls the development and maintenance of male characteristics in vertebrates by binding to androgen receptors.\n",
      "__________________________________________________________\n",
      "Androgen. A natural or artificial steroid that acts as a male sex hormone. Androgens are responsible for the development of male sex organs and secondary sexual characteristics. Testosterone and androsterone are androgens.\n",
      "__________________________________________________________\n",
      "Full chemical name: (2S)-3-(4-cyanophenoxy)-N-[4-cyano-3-(trifluoromethyl)phenyl]-2-hydroxy-2-methyl-propanamide. Ostarine is a non-steroidal selective androgen receptor modulator which binds to the androgen receptor with a Ki value of 3.8 nM. It is also known by the synonims Enobosarm, MK-2866, GTx-024 and S-22.\n",
      "__________________________________________________________\n",
      "PROPOSED BINDING OF NE TO THE BETA RECEPTOR. The adrenergic receptors which subserve the response of the sympathetic nervous system have. been divided into two discrete subtypes: alpha adrenergic receptors (alpha receptors) and beta adrenergic receptors (beta receptors). The classification of these receptors, and indeed receptors in general, is based on the interaction of agonists and antagonists with the receptors.\n",
      "__________________________________________________________\n"
     ]
    }
   ],
   "source": [
    "for idx in map_.iloc[0][1:]:\n",
    "    print(corpus[corpus[\"corpus-id\"] == idx][\"text\"].values[0])\n",
    "    print('__________________________________________________________')"
   ],
   "metadata": {
    "collapsed": false,
    "ExecuteTime": {
     "end_time": "2023-10-18T18:04:09.970835200Z",
     "start_time": "2023-10-18T18:04:09.896448400Z"
    }
   },
   "id": "f2e6bb9f53f678b9"
  },
  {
   "cell_type": "code",
   "execution_count": 131,
   "outputs": [
    {
     "data": {
      "text/plain": "36.71960237604558"
     },
     "execution_count": 131,
     "metadata": {},
     "output_type": "execute_result"
    }
   ],
   "source": [
    "def accuracy(true_map, given_map):\n",
    "    merged_map = pd.merge(true_map, given_map, on='query-id', how='inner')\n",
    "\n",
    "    counter = 0\n",
    "\n",
    "    # Iterate over each row in the merged dataframe\n",
    "    for _, row in merged_map.iterrows():\n",
    "        # Check if corpus-id exists in any of the rank columns\n",
    "        if row['corpus-id'] in [row[f'rank-{i}'] for i in range(1, 11)]:\n",
    "            counter += 1\n",
    "\n",
    "    # If you want the accuracy as a fraction of total queries, you can return counter/len(merged_map)\n",
    "    return counter / len(merged_map) * 100\n",
    "    \n",
    "accuracy(query_corpus_train_map, map_)"
   ],
   "metadata": {
    "collapsed": false,
    "ExecuteTime": {
     "end_time": "2023-10-18T19:19:42.466540800Z",
     "start_time": "2023-10-18T19:19:42.196814200Z"
    }
   },
   "id": "d442a44b774090c1"
  }
 ],
 "metadata": {
  "kernelspec": {
   "display_name": "Python 3 (ipykernel)",
   "language": "python",
   "name": "python3"
  },
  "language_info": {
   "codemirror_mode": {
    "name": "ipython",
    "version": 3
   },
   "file_extension": ".py",
   "mimetype": "text/x-python",
   "name": "python",
   "nbconvert_exporter": "python",
   "pygments_lexer": "ipython3",
   "version": "3.8.10"
  }
 },
 "nbformat": 4,
 "nbformat_minor": 5
}
